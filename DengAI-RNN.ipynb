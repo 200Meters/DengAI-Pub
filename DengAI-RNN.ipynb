{
 "cells": [
  {
   "cell_type": "markdown",
   "metadata": {},
   "source": [
    "## DengAI RNN Notebook\n",
    "This notebook was created to explore applying RNN's to the DengAI time series data. Several model architectures and feature combinations were employed including:\n",
    "\n",
    "- Simple RNN\n",
    "- LSTM \n",
    "- GRU\n",
    "- Wavenet"
   ]
  },
  {
   "cell_type": "code",
   "execution_count": null,
   "metadata": {},
   "outputs": [],
   "source": [
    "#Run the utils notebook\n",
    "%run DengAI-Utils.ipynb\n"
   ]
  },
  {
   "cell_type": "markdown",
   "metadata": {},
   "source": [
    "##### Run SJ\n",
    "Warmup the model and then auto-regress it"
   ]
  },
  {
   "cell_type": "markdown",
   "metadata": {},
   "source": [
    "##### Model Warmup for SJ\n",
    "Run the model initially with the training data to get the model trained"
   ]
  },
  {
   "cell_type": "code",
   "execution_count": 22,
   "metadata": {},
   "outputs": [
    {
     "name": "stdout",
     "output_type": "stream",
     "text": [
      "-------------------------\n",
      "Started model warmup at 2020-10-29 16:49:39.351166\n",
      "WARNING:tensorflow:Callbacks method `on_train_batch_end` is slow compared to the batch time (batch time: 0.0030s vs `on_train_batch_end` time: 1.3506s). Check your callbacks.\n",
      "3/3 [==============================] - 0s 2ms/step - loss: 20.7680 - mae: 20.7680\n",
      "-------------------------\n",
      "Warmup complete - Execution time:0:00:26.520584. Warmup completed at 2020-10-29 16:50:05.871750\n"
     ]
    }
   ],
   "source": [
    "lag_sj=1\n",
    "n_units_sj=166\n",
    "BATCH_SIZE = 16\n",
    "BUFFER_SIZE = 500\n",
    "\n",
    "#Start timer\n",
    "s_time=datetime.now()\n",
    "print('-'*25)\n",
    "print('Started model warmup at ' + str(s_time))\n",
    "\n",
    "#Prep datasets\n",
    "x_train_sj, y_train_sj, x_test_sj, y_test_sj, x_valid_sj, y_valid_sj, x_holdout_sj, x_all_sj, y_all_sj, scaler_sj=pre_process_data_for_RNN(\n",
    "    city='sj',lag=lag_sj,train_split=.8,test_split=.1,valid_split=.1)\n",
    "\n",
    "#reformat x data sets for DNN model - 3d down to 2d\n",
    "#x_train_sj_flat=x_train_sj.reshape(x_train_sj.shape[0],x_train_sj.shape[1]*x_train_sj.shape[2])\n",
    "#x_test_sj_flat=x_test_sj.reshape(x_test_sj.shape[0],x_test_sj.shape[1]*x_test_sj.shape[2])\n",
    "\n",
    "#Set up repeated copies of shuffled data\n",
    "train_sj_data_single = tf.data.Dataset.from_tensor_slices((x_train_sj, y_train_sj))\n",
    "train_sj_data_single = train_sj_data_single.cache().shuffle(BUFFER_SIZE).batch(BATCH_SIZE).repeat()\n",
    "\n",
    "#Define models\n",
    "model_sj=create_model_sj(x_sj=x_train_sj,n_units=n_units_sj,activate='selu')\n",
    "\n",
    "#Fit the models\n",
    "history_sj=fit_model_sj(model=model_sj,n_epochs=500,x_train=train_sj_data_single,y_train=y_train_sj,x_test=x_test_sj,y_test=y_test_sj)\n",
    "\n",
    "#Evaluate the model\n",
    "model_sj.evaluate(x_test_sj, y_test_sj)\n",
    "\n",
    "print('-'*25)\n",
    "#end timer\n",
    "e_time=datetime.now()\n",
    "exec_time=e_time-s_time\n",
    "print('Warmup complete - Execution time:' + str(exec_time) + '. Warmup completed at ' + str(e_time))\n",
    "\n"
   ]
  },
  {
   "cell_type": "code",
   "execution_count": 20,
   "metadata": {},
   "outputs": [
    {
     "name": "stdout",
     "output_type": "stream",
     "text": [
      "MAE for y_hat and y_valid:18.78723404255319\n"
     ]
    },
    {
     "data": {
      "text/plain": [
       "<AxesSubplot:xlabel='week', ylabel='y_hat'>"
      ]
     },
     "execution_count": 20,
     "metadata": {},
     "output_type": "execute_result"
    },
    {
     "data": {
      "image/png": "[encoded data removed]",
      "text/plain": [
       "<Figure size 432x288 with 1 Axes>"
      ]
     },
     "metadata": {},
     "output_type": "display_data"
    }
   ],
   "source": [
    "#x_valid_sj_flat=x_valid_sj.reshape(x_valid_sj.shape[0],x_valid_sj.shape[1]*x_valid_sj.shape[2])\n",
    "y_hat_sj=model_sj.predict(x_valid_sj)\n",
    "y_hat_sj=y_hat_sj[:,-1]\n",
    "y_hat_sj=y_hat_sj.astype(int)\n",
    "y_hat_sj=np.where(y_hat_sj>0,y_hat_sj,0)\n",
    "#print(y_hat_sj)\n",
    "\n",
    "#Print the MAE for predictions and targets from generated holdout\n",
    "print('MAE for y_hat and y_valid:' + str(mean_absolute_error(y_hat_sj,y_valid_sj)))\n",
    "\n",
    "#Print the predicted amounts against the targets\n",
    "df_pred=pd.DataFrame(data=y_hat_sj)\n",
    "df_pred['week']=range(1,len(y_hat_sj)+1)\n",
    "df_pred['y_hat']=df_pred[0]\n",
    "df_pred['targets']=y_valid_sj\n",
    "df_pred=df_pred.iloc[:,1:]\n",
    "\n",
    "sns.lineplot(data=df_pred,x='week',y='y_hat',legend='brief',label='y_hat')\n",
    "sns.lineplot(data=df_pred,x='week',y='targets',legend='brief',label='target')"
   ]
  },
  {
   "cell_type": "code",
   "execution_count": null,
   "metadata": {},
   "outputs": [],
   "source": [
    "#flatten the valid file\n",
    "x_valid_sj_flat=x_valid_sj.reshape(x_valid_sj.shape[0],x_valid_sj.shape[1]*x_valid_sj.shape[2])\n",
    "\n",
    "y_hat_sj=model_sj.predict(x_valid_sj_flat)\n",
    "for i in range(len(y_hat_sj)): y_hat_sj[i]=int(y_hat_sj[i])\n",
    "\n"
   ]
  },
  {
   "cell_type": "markdown",
   "metadata": {},
   "source": [
    "##### Model Auto regression for SJ\n",
    "Feed the validation or holdout data into the model one series at a time and retrain the model at each step"
   ]
  },
  {
   "cell_type": "code",
   "execution_count": 47,
   "metadata": {},
   "outputs": [
    {
     "name": "stdout",
     "output_type": "stream",
     "text": [
      "-------------------------\n",
      "Started auto-regress at 2020-10-27 15:33:16.228306\n",
      "-------------------------\n",
      "Auto regress complete - Execution time:0:00:43.650941 started at 2020-10-27 15:33:16.228306 ended at 2020-10-27 15:33:59.879247\n"
     ]
    }
   ],
   "source": [
    "lag=2\n",
    "test_split=.1\n",
    "  \n",
    "#Once model is warmed up, go through each record in holdout, create a prediction, and re-fit the model\n",
    "y_valid_sj_orig=y_valid_sj.copy()\n",
    "y_hat_sj=[]\n",
    "\n",
    "#Start timer\n",
    "s_time=datetime.now()\n",
    "print('-'*25)\n",
    "print('Started auto-regress at ' + str(s_time))\n",
    "\n",
    "for i in range(len(x_all_sj)-len(x_holdout_sj)-len(x_valid_sj),len(x_all_sj)-len(x_holdout_sj)): \n",
    "#for i in range(len(x_all_sj)-len(x_holdout_sj),len(x_all_sj)):\n",
    "    #predict the value of y - prediction will be unscaled\n",
    "    #x_predicter=x_all_sj[[i],:,:].reshape(x_all_sj[[i],:,:].shape[0],x_all_sj[[i],:,:].shape[1]*x_all_sj[[i],:,:].shape[2])\n",
    "    #y_pred=model_sj.predict(x_predicter)\n",
    "    y_pred=model_sj.predict(x_all_sj[[i],:,:])\n",
    "    \n",
    "    #Get the y value and create a 2d record to feed into the scaler.\n",
    "    x_sc=x_all_sj[[i],-1,:]\n",
    "    x_sc[0,-1]=y_pred[:,-1,-1]\n",
    "    x_sc=scaler_sj.transform(x_sc)\n",
    "    y_pred_sc=x_sc[0,-1]\n",
    "    \n",
    "    #update x_all and y_all with the scaled predicted value and predicted value\n",
    "    x_all_sj=forward_lag(x_all_sj,x_val=y_pred_sc,row_num=i+1,lag=lag)\n",
    "    y_all_sj[i,-1]=int(y_pred[:,-1,-1])\n",
    "    y_hat_sj.append(int(y_pred[:,-1,-1]))\n",
    "    \n",
    "    #re-slice the test and training sets\n",
    "    x_train_sj=x_all_sj[:i,:,:]\n",
    "    x_test_sj=x_all_sj[int(len(x_train_sj)*test_split)+1:i+1,:,:] #test and train will overlap with the last part of train being used for test\n",
    "    y_train_sj=y_all_sj[:i,-1]\n",
    "    y_test_sj=y_all_sj[int(len(y_train_sj)*test_split)+1:i+1]\n",
    "    \n",
    "    #update the model\n",
    "    history_sj=fit_model_sj(model=model_sj,n_epochs=5,x_train=x_train_sj,y_train=y_train_sj,x_test=x_test_sj,y_test=y_test_sj)\n",
    "    #model_sj.reset_states()\n",
    "    \n",
    "print('-'*25)\n",
    "#end timer\n",
    "e_time=datetime.now()\n",
    "exec_time=e_time-s_time\n",
    "print('Auto regress complete - Execution time:' + str(exec_time) + ' started at ' + str(s_time) + ' ended at ' + str(e_time))\n",
    "    "
   ]
  },
  {
   "cell_type": "code",
   "execution_count": 125,
   "metadata": {},
   "outputs": [
    {
     "name": "stdout",
     "output_type": "stream",
     "text": [
      "MAE for y_hat and y_valid:17.67391304347826\n"
     ]
    }
   ],
   "source": [
    "#Print the MAE for predictions and targets from generated holdout\n",
    "print('MAE for y_hat and y_valid:' + str(mean_absolute_error(y_hat_sj,y_valid_sj)))\n",
    "    "
   ]
  },
  {
   "cell_type": "code",
   "execution_count": 126,
   "metadata": {},
   "outputs": [
    {
     "data": {
      "text/plain": [
       "<AxesSubplot:xlabel='week', ylabel='y_hat'>"
      ]
     },
     "execution_count": 126,
     "metadata": {},
     "output_type": "execute_result"
    },
    {
     "data": {
      "image/png": "[encoded data removed]",
      "text/plain": [
       "<Figure size 432x288 with 1 Axes>"
      ]
     },
     "metadata": {},
     "output_type": "display_data"
    }
   ],
   "source": [
    "#Print the predicted amounts against the targets\n",
    "df_pred=pd.DataFrame(data=y_hat_sj)\n",
    "df_pred['week']=range(1,len(y_hat_sj)+1)\n",
    "df_pred['y_hat']=df_pred[0]\n",
    "df_pred['targets']=y_valid_sj\n",
    "df_pred=df_pred.iloc[:,1:]\n",
    "\n",
    "sns.lineplot(data=df_pred,x='week',y='y_hat',legend='brief',label='y_hat')\n",
    "sns.lineplot(data=df_pred,x='week',y='targets',legend='brief',label='target')\n",
    "\n"
   ]
  },
  {
   "cell_type": "code",
   "execution_count": 17,
   "metadata": {},
   "outputs": [
    {
     "data": {
      "text/plain": [
       "<AxesSubplot:>"
      ]
     },
     "execution_count": 17,
     "metadata": {},
     "output_type": "execute_result"
    },
    {
     "data": {
      "image/png": "[encoded data removed]",
      "text/plain": [
       "<Figure size 432x288 with 1 Axes>"
      ]
     },
     "metadata": {},
     "output_type": "display_data"
    }
   ],
   "source": [
    "df=pd.DataFrame(y_all_sj)\n",
    "sns.lineplot(data=df)"
   ]
  },
  {
   "cell_type": "markdown",
   "metadata": {},
   "source": [
    "##### Model Warmup for IQ\n",
    "Run the model initially with the training data to get the model trained"
   ]
  },
  {
   "cell_type": "code",
   "execution_count": 16,
   "metadata": {},
   "outputs": [
    {
     "name": "stdout",
     "output_type": "stream",
     "text": [
      "2/2 [==============================] - 0s 1ms/step - loss: 9.8866 - mae: 9.8866\n",
      "-------------------------\n",
      "Execution time:0:00:06.887062\n"
     ]
    }
   ],
   "source": [
    "lag_iq=1\n",
    "n_units_iq=128\n",
    "\n",
    "#Start timer\n",
    "s_time=datetime.now()\n",
    "\n",
    "#Prep datasets\n",
    "x_train_iq, y_train_iq, x_test_iq, y_test_iq, x_valid_iq, y_valid_iq, x_holdout_iq, x_all_iq, y_all_iq, scaler_iq=pre_process_data_for_RNN(\n",
    "    city='iq',lag=lag_iq,train_split=.8,test_split=.1,valid_split=.1)\n",
    "\n",
    "#Define models\n",
    "model_iq=create_model_iq(x_iq=x_train_iq,n_units=n_units_iq)\n",
    "\n",
    "#Fit the models\n",
    "history_iq=fit_model_iq(model=model_iq,n_epochs=200,x_train=x_train_iq,y_train=y_train_iq,x_test=x_test_iq,y_test=y_test_iq)\n",
    "\n",
    "#Evaluate the model\n",
    "model_iq.evaluate(x_test_iq, y_test_iq)\n",
    "\n",
    "print('-'*25)\n",
    "#end timer\n",
    "e_time=datetime.now()\n",
    "exec_time=e_time-s_time\n",
    "print('Execution time:' + str(exec_time))"
   ]
  },
  {
   "cell_type": "code",
   "execution_count": 17,
   "metadata": {},
   "outputs": [],
   "source": [
    "y_hat_iq=model_iq.predict(x_valid_iq)\n",
    "y_hat_iq=y_hat_iq[:,-1]\n",
    "for i in range(len(y_hat_iq)): y_hat_iq[i]=int(y_hat_iq[i])\n",
    "#print(y_hat_iq)"
   ]
  },
  {
   "cell_type": "markdown",
   "metadata": {},
   "source": [
    "##### Model Auto regression for IQ\n",
    "Feed the validation or holdout data into the model one series at a time and retrain the model at each step"
   ]
  },
  {
   "cell_type": "code",
   "execution_count": null,
   "metadata": {},
   "outputs": [],
   "source": [
    "#Once model is warmed up, go through each record in holdout, create a prediction, and re-fit the model\n",
    "y_valid_iq_orig=y_valid_iq.copy()\n",
    "y_hat_iq=[]\n",
    "lag=50\n",
    "test_split=.20\n",
    "\n",
    "#for i in range(len(x_all_iq)-len(x_holdout_iq)-len(x_valid_iq),len(x_all_iq)-len(x_holdout_iq)):\n",
    "for i in range(len(x_all_iq)-len(x_holdout_iq),len(x_all_iq)):\n",
    "    #predict the value of y - prediction will be unscaled\n",
    "    y_pred=model_iq.predict(x_all_iq[[i],:,:])\n",
    "    \n",
    "    #Get the y value and create a 2d record to feed into the scaler.\n",
    "    x_sc=x_all_iq[[i],-1,:]\n",
    "    x_sc[0,-1]=y_pred\n",
    "    x_sc=scaler_iq.transform(x_sc)\n",
    "    y_pred_sc=x_sc[0,-1]\n",
    "    \n",
    "    #update x_all and y_all with the scaled predicted value and predicted value\n",
    "    x_all_iq=forward_lag(x_all_iq,x_val=y_pred_sc,row_num=i+1,lag=lag)\n",
    "    y_all_iq[i,-1]=int(y_pred)\n",
    "    y_hat_iq.append(int(y_pred))\n",
    "    \n",
    "    #re-slice the test and training sets\n",
    "    x_train_iq=x_all_iq[:i,:,:]\n",
    "    x_test_iq=x_all_iq[int(len(x_train_iq)*test_split-1):i,:,:] #test and train will overlap with the last part of train being used for test\n",
    "    y_train_iq=y_all_iq[:i,-1]\n",
    "    y_test_iq=y_all_iq[int(len(y_train_iq)*test_split-1):i]\n",
    "    \n",
    "    #update the model\n",
    "    history_iq=fit_model_iq(model=model_iq,n_epochs=2,x_train=x_train_iq,y_train=y_train_iq,x_test=x_test_iq,y_test=y_test_iq)\n",
    "    model_iq.reset_states()\n",
    "    "
   ]
  },
  {
   "cell_type": "code",
   "execution_count": 18,
   "metadata": {},
   "outputs": [
    {
     "data": {
      "text/plain": [
       "3.8076923076923075"
      ]
     },
     "execution_count": 18,
     "metadata": {},
     "output_type": "execute_result"
    }
   ],
   "source": [
    "mean_absolute_error(y_hat_iq,y_valid_iq)"
   ]
  },
  {
   "cell_type": "code",
   "execution_count": 19,
   "metadata": {},
   "outputs": [
    {
     "data": {
      "text/plain": [
       "<AxesSubplot:xlabel='week', ylabel='y_hat'>"
      ]
     },
     "execution_count": 19,
     "metadata": {},
     "output_type": "execute_result"
    },
    {
     "data": {
      "image/png": "[encoded data removed]",
      "text/plain": [
       "<Figure size 432x288 with 1 Axes>"
      ]
     },
     "metadata": {},
     "output_type": "display_data"
    }
   ],
   "source": [
    "df_pred=pd.DataFrame(data=y_hat_iq)\n",
    "df_pred['week']=range(1,len(y_hat_iq)+1)\n",
    "df_pred['y_hat']=df_pred[0]\n",
    "df_pred['targets']=y_valid_iq\n",
    "df_pred=df_pred.iloc[:,1:]\n",
    "df_pred.head()\n",
    "sns.lineplot(data=df_pred,x='week',y='y_hat',legend='brief',label='y_hat')\n",
    "sns.lineplot(data=df_pred,x='week',y='targets',legend='brief',label='target')\n"
   ]
  },
  {
   "cell_type": "code",
   "execution_count": null,
   "metadata": {},
   "outputs": [],
   "source": [
    "y_sub_sj=y_all_sj[len(y_all_sj)-len(x_holdout_sj):]\n",
    "y_sub_iq=y_all_iq[len(y_all_iq)-len(x_holdout_iq):]\n",
    "\n",
    "#Create the submit file\n",
    "create_submit_file(y_sub_sj,y_sub_iq)\n"
   ]
  },
  {
   "cell_type": "code",
   "execution_count": null,
   "metadata": {},
   "outputs": [],
   "source": [
    "y_pred_sj=model_sj.predict(x_valid_sj)\n",
    "print('MAE of SJ: '+ str(mean_absolute_error(y_pred_sj,y_valid_sj)))\n",
    "y_pred_iq=model_iq.predict(x_valid_iq)\n",
    "print('MAE of IQ: '+ str(mean_absolute_error(y_pred_iq,y_valid_iq)))\n",
    "y_pred_combined=np.append(y_pred_sj,y_pred_iq)\n",
    "y_valid_combined=np.append(y_valid_sj,y_valid_iq)\n",
    "print('MAE of Combined: ' + str(mean_absolute_error(y_pred_combined,y_valid_combined)))"
   ]
  },
  {
   "cell_type": "markdown",
   "metadata": {},
   "source": [
    "#### RNN with Grid Search"
   ]
  },
  {
   "cell_type": "code",
   "execution_count": null,
   "metadata": {},
   "outputs": [],
   "source": [
    "#Start timer\n",
    "from datetime import datetime\n",
    "s_time=datetime.now()\n",
    "\n",
    "from keras.optimizers import SGD\n",
    "from keras.optimizers import Adam\n",
    "from keras.optimizers import Nadam\n",
    "from keras.optimizers import RMSprop\n",
    "\n",
    "#Prep datasets\n",
    "x_train_sj, y_train_sj, x_test_sj, y_test_sj, x_pred_sj=pre_process_data_for_RNN(city='sj',scale_norm=True,lag=50)\n",
    "#x_train_iq, y_train_iq, x_test_iq, y_test_iq, x_pred_iq=pre_process_data_for_RNN(city='iq',scale_norm=True,lag=50)\n",
    "\n",
    "#Wrap with sci-kit wrapper to enable fit, predict, score, etc\n",
    "input_sj=x_train_sj.shape[2]\n",
    "#input_iq=x_train_iq.shape[2]\n",
    "keras_reg_sj=keras.wrappers.scikit_learn.KerasRegressor(build_fn=build_rnn_lstm_model,i_shape=input_sj)\n",
    "#keras_reg_iq=keras.wrappers.scikit_learn.KerasRegressor(build_fn=build_rnn_lstm_model,input_shape=(input_iq))\n",
    "\n",
    "#get needed libraries for grid search and eval\n",
    "from sklearn.model_selection import GridSearchCV\n",
    "\n",
    "params={\n",
    "    'n_hidden': [0,1,2,3],\n",
    "    'units': [1,2,4,8,16,32,64,128],\n",
    "    'learning_rate': [0.0001, 0.001, 0.01, 0.1, 0.2, 0.3],\n",
    "    'activation':['relu','selu'],\n",
    "    'dropout': [0,0.1,0.25,0.5],\n",
    "    'optimizer':[SGD, Adam, Nadam, RMSprop]\n",
    "}\n",
    "\n",
    "#Grid search for SJ\n",
    "grid_sj=GridSearchCV(keras_reg_sj,params,cv=3,return_train_score=True)\n",
    "grid_sj.fit(x_train_sj, y_train_sj,epochs=200,verbose=0,\n",
    "           validation_data=(x_test_sj,y_test_sj),\n",
    "           callbacks=[keras.callbacks.EarlyStopping(patience=10)])\n",
    "\n",
    "#grid seach for IQ\n",
    "#grid_iq=GridSearchCV(keras_reg_iq,params,cv=3,return_train_score=True)\n",
    "#grid_iq.fit(df_x_train_iq, df_y_train_iq[target],epochs=200,verbose=0,\n",
    "#           validation_data=(df_x_test_iq,df_y_test_iq[target]),\n",
    "#           callbacks=[keras.callbacks.EarlyStopping(patience=10)])\n",
    "print('-'*25)\n",
    "#end timer\n",
    "e_time=datetime.now()\n",
    "exec_time=e_time-s_time\n",
    "print('Execution time:' + str(exec_time))"
   ]
  },
  {
   "cell_type": "code",
   "execution_count": null,
   "metadata": {},
   "outputs": [],
   "source": [
    "#Evaluate results\n",
    "#Test MAE\n",
    "y_pred_sj=grid_sj.predict(df_x_test_sj)\n",
    "y_pred_iq=grid_iq.predict(df_x_test_iq)\n",
    "y_pred_combined=np.append(y_pred_sj,y_pred_iq)\n",
    "y_pred_combined=np.where(y_pred_combined>0,y_pred_combined,0) #remove negative predictions\n",
    "y_target_combined=np.append(df_y_test_sj[target],df_y_test_iq[target])\n",
    "print('MAE of SJ: '+ str(mean_absolute_error(df_y_test_sj[target],y_pred_sj)))\n",
    "print('MAE of IQ: '+ str(mean_absolute_error(df_y_test_iq[target],y_pred_iq)))\n",
    "print('MAE of Combined: ' + str(mean_absolute_error(y_target_combined,y_pred_combined)))\n",
    "print('-'*25)\n",
    "#best model\n",
    "print('grid_sj params:' + str(grid_sj.best_params_))\n",
    "print('grid_sj best score: '+str(grid_sj.best_score_))\n",
    "print('grid_iq params:' + str(grid_iq.best_params_))\n",
    "print('grid_iq best score: '+str(grid_iq.best_score_))\n",
    "model_sj=grid_sj.best_estimator_.model\n",
    "model_iq=grid_iq.best_estimator_.model"
   ]
  },
  {
   "cell_type": "markdown",
   "metadata": {},
   "source": [
    "##### Support Functions for RNN\n",
    "**Model Builder**<br>\n",
    "Function that dynamically builds an RNN model to be instered into a grid search"
   ]
  },
  {
   "cell_type": "code",
   "execution_count": 1,
   "metadata": {},
   "outputs": [],
   "source": [
    "#define a keras model builder\n",
    "def build_rnn_lstm_model(i_shape,n_hidden=1,units=30,activation='tanh',dropout=0.0,recurrent_dropout=0.0,optimizer='Adam',learning_rate=0.001):\n",
    "    \n",
    "    model=keras.models.Sequential()\n",
    "    model.add(keras.layers.LSTM(units=units,return_sequences=True,input_shape=[None,i_shape]))\n",
    "    for layer in range(n_hidden):\n",
    "        model.add(keras.layers.LSTM(units,activation=activation,return_sequences=True))\n",
    "    model.add(keras.layers.Dense(1))\n",
    "    optimizer=optimizer(lr=learning_rate)\n",
    "    model.compile(loss='mae',optimizer=optimizer)\n",
    "    \n",
    "    return model\n"
   ]
  },
  {
   "cell_type": "markdown",
   "metadata": {},
   "source": [
    "**Pre-processor**<br>\n",
    "Prepares the data for the model run."
   ]
  },
  {
   "cell_type": "code",
   "execution_count": 15,
   "metadata": {},
   "outputs": [],
   "source": [
    "def pre_process_data_for_RNN(city,lag=0,train_split=0.7,test_split=0.1,valid_split=0.2):\n",
    "    #Load data\n",
    "    df_input, df_labels, df_holdout = load_all_data()\n",
    "\n",
    "    #Interp data\n",
    "    df_input=interp(df_input)\n",
    "    df_holdout=interp(df_holdout)\n",
    "\n",
    "    #Designate city to prep data for\n",
    "    df_input_city=df_input[df_input['city']==city]\n",
    "    df_holdout_city=df_holdout[df_holdout['city']==city]\n",
    "    df_labels_city=df_labels[df_labels['city']==city]\n",
    "    \n",
    "    #down-select to an outbreak year\n",
    "    #df_input_city=df_input[(df_input['year']>1993)&(df_input['year']<2000)]\n",
    "    #df_labels_city=df_labels_city[(df_labels_city['year']>1993)&(df_labels_city['year']<2000)]\n",
    "\n",
    "    #Remember the length of each df to break them back apart\n",
    "    len_input=len(df_input_city)\n",
    "    len_labels=len(df_labels_city)\n",
    "    len_holdout=len(df_holdout_city)\n",
    "\n",
    "    #Create single df for everything so you can apply iterator\n",
    "    df_input_city['total_cases_sc']=df_labels_city['total_cases']\n",
    "    df_holdout_city['total_cases_sc']=0\n",
    "    \n",
    "    #Create single df for all values\n",
    "    df_all=df_input_city.append(df_holdout_city)\n",
    "    df_all.reset_index(inplace=True)\n",
    "    \n",
    "    #Create lagged features\n",
    "    df_all=create_lag_features(df=df_all,lag=50,end_col=24)\n",
    "\n",
    "    #Get the lists of features to train\n",
    "    training_feature_list=[]\n",
    "    city_feature_list=get_feature_list(city)\n",
    "    for i in range(len(city_feature_list)):training_feature_list.append(city_feature_list[i])\n",
    "    df_all=df_all[training_feature_list]\n",
    "    np_all=np.array(df_all)\n",
    "    \n",
    "    #Scale the data\n",
    "    scaler=MinMaxScaler(feature_range=(-1,1))\n",
    "    scaler.fit(df_all)\n",
    "    np_all=scaler.transform(np_all)\n",
    "    \n",
    "    #Iterate and create lagged time series\n",
    "    x_all=ts_iterator_rnn(np_all,lag=lag,feature_list=training_feature_list)\n",
    "    df_holdout_city['total_cases']=0\n",
    "    y_all=df_labels_city['total_cases'].append(df_holdout_city['total_cases'])\n",
    "    y_all=np.array(y_all)\n",
    "    y_all=y_all.reshape(-1,1)\n",
    "    y_all=y_all[lag:]#Drop the first lagged rows since they were dropped by the iterator in the x files\n",
    "    \n",
    "    #split x and y into train, test, and holdout\n",
    "    x_input=x_all[:int(len_input-lag),:,:] #subtract because the first lagged rows were dropped by the iterator\n",
    "    x_holdout=x_all[int(len_input-lag):,:,:]\n",
    "    x_train=x_input[:int(len(x_input)*train_split),:,:]\n",
    "    x_test=x_input[int(len(x_input)*train_split):int(len(x_input)*(train_split+valid_split)),:,:]\n",
    "    x_valid=x_input[int(len(x_input)*(train_split+valid_split)):,:,:]\n",
    "    #x_valid=x_input[int(len(x_input)-(len(x_input)*valid_split)):,:,:] #use when restricting values to a single year\n",
    "    y_labels=y_all[:int(len_labels-lag),:]\n",
    "    y_train=y_labels[:int(len(y_labels)*train_split),:]\n",
    "    y_test=y_labels[int(len(x_input)*train_split):int(len(x_input)*(train_split+valid_split)),:]\n",
    "    y_valid=y_labels[int(len(y_labels)*(train_split+valid_split)):,:]\n",
    "    #y_valid=y_labels[int(len(y_labels)-(len(y_labels)*valid_split)):,:]\n",
    "           \n",
    "    return x_train, y_train, x_test, y_test, x_valid, y_valid, x_holdout, x_all, y_all, scaler\n"
   ]
  },
  {
   "cell_type": "markdown",
   "metadata": {},
   "source": [
    "**Iterator**<br>\n",
    "The time series data will be broken into multiple series. Each series will contain the current plus the prior lag time periods. For example at lag 50, this will produce a 3d array with one 50 step time series of all features for each sample in the file (minus the initial lag) "
   ]
  },
  {
   "cell_type": "code",
   "execution_count": 3,
   "metadata": {},
   "outputs": [],
   "source": [
    "#Iterator to create time lags\n",
    "def ts_iterator_rnn(np_all,lag,feature_list):\n",
    "\n",
    "    x=[] #feature data\n",
    "    #y=[] #label data\n",
    "\n",
    "    #Create the iterator\n",
    "    for i in range(lag,len(np_all)): #start at the step that represents the lookback and go to the last timestep in the frame\n",
    "        t=[]\n",
    "        for j in range(lag): #For each step in the lookback\n",
    "            t.append(np_all[(i-lag+j),0:len(feature_list)]) #get the values of all features for the lookback period and append to a list. Start at the \n",
    "                                                 #beginning of the lookback period and roll forward (i-lookback+j). Note the feature set will not include the target\n",
    "        \n",
    "        x.append(t) #append all input features for the lookbook period to create the training series\n",
    "        #y.append(np_all[i,-1]) #Get the target value for the step (total_cases)\n",
    "\n",
    "    #Convert lists to numpy arrays and then reshape to 3 dimensions (sample size, time steps(lookback), number of features)\n",
    "    #x,y=np.array(x),np.array(y)\n",
    "    x=np.array(x)\n",
    "    x=x.reshape(x.shape[0],lag,len(feature_list))\n",
    "    #y=np.reshape(y,(-1,1)) #reshape into 2d array from 1d with only a single feature\n",
    "    \n",
    "    return x"
   ]
  },
  {
   "cell_type": "markdown",
   "metadata": {},
   "source": [
    "**Forward lag**<br>\n",
    "Update the lagged records forward, to be called in a recrusive fashion each time a new prediction is made. Pattern looks like:\n",
    "    \n",
    "i=0 update current row and last value of target [row+0,-(0+1),-1]<br>\n",
    "i=1 update next row and second to last value of target [row+1,-(1+1),-1]<br>\n",
    "      .<br>\n",
    "      .<br>\n",
    "i=16 update current row and last value of target [row+16,-(16+1),-1]<br>\n",
    "This function is necessary for a recursively run model using 3d time series data. Each time it creates a prediction, it needs to insert the prediction into the history of each step in the future."
   ]
  },
  {
   "cell_type": "code",
   "execution_count": 5,
   "metadata": {},
   "outputs": [],
   "source": [
    "#once a prediction is made, put it in the correct spot for further predictions\n",
    "def forward_lag(x_set,x_val,row_num,lag):\n",
    " \n",
    "    #for the next lag rows in set of x vals\n",
    "    if len(x_set)-row_num < lag: lag=len(x_set)-row_num #if the number of records left is less than the lag length, shorten the iterations\n",
    "    for i in range(lag):\n",
    "        x_set[row_num+i,-(i+1),-1]=x_val\n",
    "    \n",
    "    return x_set\n",
    "    \n",
    "    \n"
   ]
  },
  {
   "cell_type": "markdown",
   "metadata": {},
   "source": [
    "**Model Create and Fit**<br>\n",
    "For each city, define a function to generate the model and then fit it"
   ]
  },
  {
   "cell_type": "code",
   "execution_count": 21,
   "metadata": {},
   "outputs": [],
   "source": [
    "#Create the model for SJ\n",
    "def create_model_sj(x_sj,n_units=128,activate='selu'):\n",
    "    #model_sj=Sequential([\n",
    "        #Dense(units=n_units,activation=activate,input_shape=(x_sj.shape[1],)),\n",
    "        #Dense(units=n_units,activation=activate,kernel_initializer='lecun_normal'),\n",
    "        #GRU(n_units,return_sequences=True,input_shape=[None,x_train_sj.shape[2]]),\n",
    "        #GRU(n_units,return_sequences=True),\n",
    "        #GRU(n_units,return_sequences=True),\n",
    "        #GRU(n_units,return_sequences=False),\n",
    "        #Dense(1)\n",
    "    #])\n",
    "\n",
    "    ##Wavenet model\n",
    "    model_sj=Sequential()\n",
    "    model_sj.add(InputLayer(input_shape=[x_sj.shape[1],x_sj.shape[2]]))\n",
    "    for rate in (1,2):\n",
    "        model_sj.add(Conv1D(filters=n_units,kernel_size=2,padding='causal',activation='relu',dilation_rate=rate))\n",
    "    model_sj.add(Conv1D(filters=n_units,kernel_size=2,padding='causal',activation='relu',dilation_rate=rate))\n",
    "    model_sj.add(Conv1D(filters=1,kernel_size=1))\n",
    "    \n",
    "    #Compile the model\n",
    "    #opt=SGD(lr=0.01)\n",
    "    opt=tf.keras.optimizers.RMSprop(learning_rate=0.1, rho=0.9, momentum=0.0, epsilon=1e-07, centered=False, name='RMSprop')\n",
    "    model_sj.compile(loss=\"mae\",metrics=['mae'], optimizer=opt)\n",
    "    \n",
    "    return model_sj\n",
    "    "
   ]
  },
  {
   "cell_type": "code",
   "execution_count": 7,
   "metadata": {},
   "outputs": [],
   "source": [
    "#Fit the sj model\n",
    "def fit_model_sj(model,n_epochs,x_train,y_train,x_test,y_test):\n",
    "    \n",
    "    # Train the Model.\n",
    "    EVALUATION_INTERVAL = 200\n",
    "    EPOCHS = 50\n",
    "    \n",
    "    #fit the model\n",
    "    reduce_lr=tf.keras.callbacks.ReduceLROnPlateau(monitor=\"mae\", factor=0.8, patience=50, min_lr=1e-8, verbose=1, mode=\"max\")\n",
    "    early_stop=keras.callbacks.EarlyStopping(patience=10)\n",
    "    #history=model_sj.fit(x_train, y_train, epochs=n_epochs, shuffle=False, validation_data=(x_test, y_test), callbacks=[reduce_lr,tensorboard_cb],verbose=0)\n",
    "    history=model_sj.fit(train_sj_data_single, epochs=EPOCHS,steps_per_epoch=EVALUATION_INTERVAL, shuffle=False, callbacks=[reduce_lr],verbose=0)\n",
    "    \n",
    "    return history\n",
    "    "
   ]
  },
  {
   "cell_type": "code",
   "execution_count": 8,
   "metadata": {},
   "outputs": [],
   "source": [
    "#Create model for IQ\n",
    "def create_model_iq(x_iq,n_units=128,activate='selu'):\n",
    "    #Define model\n",
    "    #model_iq=Sequential([\n",
    "    #    GRU(n_units,return_sequences=True,input_shape=[None,x_train_iq.shape[2]]),\n",
    "    #    GRU(n_units,return_sequences=True),\n",
    "    #    GRU(n_units,return_sequences=False),\n",
    "    #    Dense(1)\n",
    "    #])\n",
    "\n",
    "    #wavenet model\n",
    "    model_iq=Sequential()\n",
    "    model_iq.add(InputLayer(input_shape=[x_iq.shape[1],x_iq.shape[2]]))\n",
    "    #for rate in (1,2):\n",
    "    rate=1\n",
    "    model_iq.add(Conv1D(filters=n_units,kernel_size=2,padding='causal',activation='relu',dilation_rate=rate))\n",
    "    model_iq.add(Conv1D(filters=1,kernel_size=1))\n",
    "    \n",
    "    #Compile the model\n",
    "    opt_iq=tf.keras.optimizers.RMSprop(learning_rate=0.001, rho=0.9, momentum=0.0, epsilon=1e-07, centered=False,name='RMSprop')\n",
    "    #optimizer = keras.optimizers.Adam(lr=0.01)\n",
    "    model_iq.compile(loss=\"mae\", optimizer=opt_iq, metrics=['mae'])\n",
    "\n",
    "    return model_iq\n",
    "    "
   ]
  },
  {
   "cell_type": "code",
   "execution_count": 9,
   "metadata": {},
   "outputs": [],
   "source": [
    "#Fit the iq model\n",
    "def fit_model_iq(model,n_epochs,x_train,y_train,x_test,y_test):\n",
    "    #fit the model\n",
    "    reduce_lr_iq=tf.keras.callbacks.ReduceLROnPlateau(monitor='mae', factor=0.8, patience=10, min_lr=1e-8, verbose=0,mode='max')\n",
    "    early_stop_iq=keras.callbacks.EarlyStopping(patience=20)\n",
    "    history=model_iq.fit(x_train, y_train, epochs=n_epochs, shuffle=False, validation_data=(x_test, y_test),callbacks=[early_stop_iq,reduce_lr_iq],verbose=0)\n",
    "    \n",
    "    return history"
   ]
  },
  {
   "cell_type": "markdown",
   "metadata": {},
   "source": [
    "#### Results\n",
    "A number of different attempts were made to get an RNN to make good predictions after training. Several basic model architectures were employed including RNN, LSTM, GRU, and Wavenet. For each of these models, different input features were used, HP tuning was performed, and the model was run both in batch and single step recursive mode. None of these models outperformed the DNN model which scored at ~17.8 MAE "
   ]
  },
  {
   "cell_type": "code",
   "execution_count": null,
   "metadata": {},
   "outputs": [],
   "source": []
  }
 ],
 "metadata": {
  "kernelspec": {
   "display_name": "Python 3",
   "language": "python",
   "name": "python3"
  },
  "language_info": {
   "codemirror_mode": {
    "name": "ipython",
    "version": 3
   },
   "file_extension": ".py",
   "mimetype": "text/x-python",
   "name": "python",
   "nbconvert_exporter": "python",
   "pygments_lexer": "ipython3",
   "version": "3.8.5"
  }
 },
 "nbformat": 4,
 "nbformat_minor": 4
}
