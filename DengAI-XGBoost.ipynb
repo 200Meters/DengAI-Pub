{
 "cells": [
  {
   "cell_type": "markdown",
   "metadata": {},
   "source": [
    "## XGBoost\n",
    "This notebook supports the DengAI project and is for evaluating KGBoost Models. For the supporting utilities, see the DengAI-Utils Notebook"
   ]
  },
  {
   "cell_type": "code",
   "execution_count": 4,
   "metadata": {},
   "outputs": [
    {
     "name": "stdout",
     "output_type": "stream",
     "text": [
      "Environment is: base\n"
     ]
    }
   ],
   "source": [
    "#Run the utils notebook\n",
    "%run DengAI-Utils.ipynb"
   ]
  },
  {
   "cell_type": "code",
   "execution_count": 5,
   "metadata": {},
   "outputs": [],
   "source": [
    "#pre-process the data\n",
    "df_x_train_sj, df_y_train_sj, df_x_test_sj, df_y_test_sj, df_x_valid_sj, df_y_valid_sj, df_x_pred_sj, df_y_pred_sj=pre_process_data(\n",
    "    city='sj',\n",
    "    train_split=0.8,\n",
    "    test_split=0.2,\n",
    "    valid_split=0.0,\n",
    "    xy_split=0.0,\n",
    "    time_series_split=True\n",
    ")\n",
    "#set target field\n",
    "target='total_cases'"
   ]
  },
  {
   "cell_type": "code",
   "execution_count": 6,
   "metadata": {},
   "outputs": [],
   "source": [
    "#Pre-process data for iq\n",
    "df_x_train_iq, df_y_train_iq, df_x_test_iq, df_y_test_iq, df_x_valid_iq, df_y_valid_iq, df_x_pred_iq, df_y_pred_iq=pre_process_data(\n",
    "    city='iq',\n",
    "    train_split=0.8,\n",
    "    test_split=0.2,\n",
    "    valid_split=0.0,\n",
    "    xy_split=0.0,\n",
    "    time_series_split=True\n",
    ")\n",
    "\n",
    "#set target field\n",
    "target='total_cases'"
   ]
  },
  {
   "cell_type": "code",
   "execution_count": 7,
   "metadata": {},
   "outputs": [
    {
     "name": "stdout",
     "output_type": "stream",
     "text": [
      "Score of SJ train: 0.1199582458311278\n",
      "Score of SJ test: -0.29555687906009065\n",
      "Score of IQ train: 0.6945428994337732\n",
      "Score of IQ test: 0.6216476072718999\n",
      "-------------------------\n",
      "MAE of SJ: 20.17594733954854\n",
      "MAE of IQ: 4.89117611249288\n",
      "MAE of Combined: 14.945417261848885\n",
      "-------------------------\n",
      "Execution time:10:59:21.068778\n"
     ]
    }
   ],
   "source": [
    "#Run the model\n",
    "'''Use XGBoost with a grid search to find hp's for each model'''\n",
    "\n",
    "#Start timer\n",
    "from datetime import datetime\n",
    "s_time=datetime.now()\n",
    "\n",
    "#Define param grid\n",
    "p_grid={\n",
    "    'n_estimators':[10,100,200,300],\n",
    "    'reg_lambda':[0,1,5,10],\n",
    "    'reg_alpha':[0,1,5,10],\n",
    "    'gamma':[0,1,10],\n",
    "    'max_depth':[3,6,10,20,25],\n",
    "    'learning_rate':[0.0000001,0.00001,0.0001,0.001,0.01]\n",
    "}\n",
    "\n",
    "#run param grid for sj\n",
    "grid_sj=GridSearchCV(XGBRegressor(),p_grid,cv=5,return_train_score=True)\n",
    "grid_sj.fit(df_x_train_sj,df_y_train_sj[target])\n",
    "\n",
    "#run param grid for iq\n",
    "grid_iq=GridSearchCV(XGBRegressor(),p_grid,cv=5,return_train_score=True)\n",
    "grid_iq.fit(df_x_train_iq,df_y_train_iq[target])\n",
    "\n",
    "#Evaluate results\n",
    "print('Score of SJ train: ' + str(grid_sj.score(df_x_train_sj,df_y_train_sj[target])))\n",
    "print('Score of SJ test: ' + str(grid_sj.score(df_x_test_sj,df_y_test_sj[target])))\n",
    "print('Score of IQ train: ' + str(grid_iq.score(df_x_train_iq,df_y_train_iq[target])))\n",
    "print('Score of IQ test: ' + str(grid_iq.score(df_x_test_iq,df_y_test_iq[target])))\n",
    "print('-'*25)\n",
    "evaluate_results(grid_sj,grid_iq,df_x_test_sj,df_x_test_iq,df_y_test_sj,df_y_test_iq,target='total_cases')\n",
    "print('-'*25)\n",
    "#end timer\n",
    "e_time=datetime.now()\n",
    "exec_time=e_time-s_time\n",
    "print('Execution time:' + str(exec_time))\n"
   ]
  },
  {
   "cell_type": "code",
   "execution_count": 8,
   "metadata": {},
   "outputs": [],
   "source": [
    "'''Create the submission file'''\n",
    "#Use the trained model to make predictions on the holdout set\n",
    "y_pred_sj=grid_sj.predict(df_x_pred_sj)\n",
    "y_pred_iq=grid_iq.predict(df_x_pred_iq)\n",
    "\n",
    "#Create the holdout file\n",
    "create_submit_file(y_pred_sj,y_pred_iq)"
   ]
  },
  {
   "cell_type": "markdown",
   "metadata": {},
   "source": [
    "#### Results\n",
    "Using the XGBoost and combining with features engineered by through means and aggregations over rolling time periods and then lagging those features, the best models were used from the grid search. Results were slightly better than the baseline model"
   ]
  },
  {
   "cell_type": "code",
   "execution_count": null,
   "metadata": {},
   "outputs": [],
   "source": []
  }
 ],
 "metadata": {
  "kernelspec": {
   "display_name": "Python 3",
   "language": "python",
   "name": "python3"
  },
  "language_info": {
   "codemirror_mode": {
    "name": "ipython",
    "version": 3
   },
   "file_extension": ".py",
   "mimetype": "text/x-python",
   "name": "python",
   "nbconvert_exporter": "python",
   "pygments_lexer": "ipython3",
   "version": "3.8.5"
  }
 },
 "nbformat": 4,
 "nbformat_minor": 4
}
