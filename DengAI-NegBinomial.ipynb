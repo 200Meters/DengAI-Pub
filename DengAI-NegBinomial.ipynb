{
 "cells": [
  {
   "cell_type": "markdown",
   "metadata": {},
   "source": [
    "### Deng AI Neg Binomial\n",
    "Notebook to test negative binomial disitribution model\n",
    "#### Environment and Data Prep"
   ]
  },
  {
   "cell_type": "code",
   "execution_count": 1,
   "metadata": {},
   "outputs": [],
   "source": [
    "import pandas as pd\n",
    "from patsy import dmatrices\n",
    "import numpy as np\n",
    "import statsmodels.api as sm\n",
    "import statsmodels.formula.api as smf\n",
    "import matplotlib.pyplot as plt\n",
    "from statsmodels.tools import eval_measures"
   ]
  },
  {
   "cell_type": "code",
   "execution_count": null,
   "metadata": {},
   "outputs": [],
   "source": [
    "#Run the utils notebook\n",
    "%run DengAI-Utils.ipynb\n"
   ]
  },
  {
   "cell_type": "code",
   "execution_count": 30,
   "metadata": {},
   "outputs": [],
   "source": [
    "#pre-process the data\n",
    "df_x_train_sj, df_y_train_sj, df_x_test_sj, df_y_test_sj, df_x_valid_sj, df_y_valid_sj, df_x_pred_sj, df_y_pred_sj=pre_process_data(\n",
    "    city='sj',\n",
    "    train_split=0.8,\n",
    "    test_split=0.2,\n",
    "    valid_split=0.0,\n",
    "    xy_split=0.0,\n",
    "    time_series_split=True\n",
    ")\n",
    "#set target field\n",
    "target='total_cases'\n",
    "\n",
    "#Define formula\n",
    "formula_sj=\"total_cases ~ 1 + \" \\\n",
    "            \"cum_rain_prior_24_wks + \" \\\n",
    "            \"avg_max_temp_prior_22_wks + \" \\\n",
    "            \"station_min_temp_c + \" \\\n",
    "            \"station_max_temp_c\" "
   ]
  },
  {
   "cell_type": "code",
   "execution_count": 29,
   "metadata": {},
   "outputs": [
    {
     "data": {
      "text/plain": [
       "(0, 409)"
      ]
     },
     "execution_count": 29,
     "metadata": {},
     "output_type": "execute_result"
    }
   ],
   "source": [
    "df_x_train_sj.shape\n",
    "df_x_test_sj.shape"
   ]
  },
  {
   "cell_type": "code",
   "execution_count": 32,
   "metadata": {},
   "outputs": [],
   "source": [
    "#Pre-process data for iq\n",
    "df_x_train_iq, df_y_train_iq, df_x_test_iq, df_y_test_iq, df_x_valid_iq, df_y_valid_iq, df_x_pred_iq, df_y_pred_iq=pre_process_data(\n",
    "    city='iq',\n",
    "    train_split=0.8,\n",
    "    test_split=0.2,\n",
    "    valid_split=0.0,\n",
    "    xy_split=0.0,\n",
    "    time_series_split=True\n",
    ")\n",
    "\n",
    "#set target field\n",
    "target='total_cases'\n",
    "\n",
    "#Define formula\n",
    "formula_iq=\"total_cases ~ 1 + \" \\\n",
    "            \"reanalysis_min_air_temp_k + \" \\\n",
    "            \"station_max_temp_c + \" \\\n",
    "            \"cum_rain_prior_22_wks \"\n"
   ]
  },
  {
   "cell_type": "markdown",
   "metadata": {},
   "source": [
    "#### Negative Binomial Model"
   ]
  },
  {
   "cell_type": "code",
   "execution_count": 35,
   "metadata": {},
   "outputs": [],
   "source": [
    "def get_best_model(train, test, city):\n",
    "    \n",
    "    #specify the formula for the model\n",
    "    if city=='sj':\n",
    "        model_formula = formula_sj\n",
    "    elif city=='iq':\n",
    "        model_formula = formula_iq\n",
    "    \n",
    "    grid = 10.0 ** np.arange(-8, -3, dtype=np.float64)\n",
    "    \n",
    "    best_alpha = []\n",
    "    best_score = 1000\n",
    "        \n",
    "    # Step 2: Find the best hyper parameter, alpha\n",
    "    for alpha in grid:\n",
    "        model = smf.glm(formula=model_formula,\n",
    "                        data=train,\n",
    "                        family=sm.families.NegativeBinomial(alpha=alpha))\n",
    "\n",
    "        results = model.fit()\n",
    "        predictions = results.predict(test).astype(int)\n",
    "        score = eval_measures.meanabs(predictions, test.total_cases)\n",
    "\n",
    "        if score < best_score:\n",
    "            best_alpha = alpha\n",
    "            best_score = score\n",
    "\n",
    "    print('best alpha = ', best_alpha)\n",
    "    print('best score = ', best_score)\n",
    "            \n",
    "    # Step 3: refit on entire dataset\n",
    "    full_dataset = pd.concat([train, test])\n",
    "    model = smf.glm(formula=model_formula,\n",
    "                    data=full_dataset,\n",
    "                    family=sm.families.NegativeBinomial(alpha=best_alpha))\n",
    "\n",
    "    fitted_model = model.fit()\n",
    "    return fitted_model\n",
    "    \n"
   ]
  },
  {
   "cell_type": "code",
   "execution_count": 36,
   "metadata": {},
   "outputs": [
    {
     "name": "stdout",
     "output_type": "stream",
     "text": [
      "best alpha =  1e-08\n",
      "best score =  10.086705202312139\n",
      "best alpha =  1e-08\n",
      "best score =  5.366666666666666\n"
     ]
    }
   ],
   "source": [
    "#Add target to the features data for model training and testing\n",
    "df_x_train_sj['total_cases']=df_y_train_sj['total_cases']\n",
    "df_x_test_sj['total_cases']=df_y_test_sj['total_cases']\n",
    "\n",
    "df_x_train_iq['total_cases']=df_y_train_iq['total_cases']\n",
    "df_x_test_iq['total_cases']=df_y_test_iq['total_cases']\n",
    "\n",
    "\n",
    "sj_best_model = get_best_model(df_x_train_sj, df_x_test_sj,city='sj')\n",
    "iq_best_model = get_best_model(df_x_train_iq, df_x_test_iq,city='iq')"
   ]
  },
  {
   "cell_type": "code",
   "execution_count": 37,
   "metadata": {},
   "outputs": [
    {
     "data": {
      "text/plain": [
       "<matplotlib.legend.Legend at 0x15b9d486130>"
      ]
     },
     "execution_count": 37,
     "metadata": {},
     "output_type": "execute_result"
    },
    {
     "data": {
      "image/png": "[encoded data removed]",
      "text/plain": [
       "<Figure size 432x288 with 2 Axes>"
      ]
     },
     "metadata": {},
     "output_type": "display_data"
    }
   ],
   "source": [
    "\n",
    "figs, axes = plt.subplots(nrows=2, ncols=1)\n",
    "\n",
    "# plot sj\n",
    "df_x_train_sj['fitted'] = sj_best_model.fittedvalues\n",
    "df_x_train_sj.fitted.plot(ax=axes[0], label=\"Predictions\")\n",
    "df_x_train_sj.total_cases.plot(ax=axes[0], label=\"Actual\")\n",
    "\n",
    "# plot iq\n",
    "df_x_train_iq['fitted'] = iq_best_model.fittedvalues\n",
    "df_x_train_iq.fitted.plot(ax=axes[1], label=\"Predictions\")\n",
    "df_x_train_iq.total_cases.plot(ax=axes[1], label=\"Actual\")\n",
    "\n",
    "plt.suptitle(\"Dengue Predicted Cases vs. Actual Cases\")\n",
    "plt.legend()\n"
   ]
  },
  {
   "cell_type": "code",
   "execution_count": 38,
   "metadata": {},
   "outputs": [],
   "source": [
    "#Run the model and create the submit file\n",
    "\n",
    "#For sj\n",
    "model_sj = smf.glm(formula=formula_sj,\n",
    "                        data=df_x_train_sj,\n",
    "                        family=sm.families.NegativeBinomial(alpha=1e-08))\n",
    "\n",
    "results_sj = model_sj.fit()\n",
    "predictions_sj = results_sj.predict(df_x_pred_sj).astype(int)\n",
    "\n",
    "\n",
    "#for IQ\n",
    "model_iq = smf.glm(formula=formula_iq,\n",
    "                        data=df_x_train_iq,\n",
    "                        family=sm.families.NegativeBinomial(alpha=1e-08))\n",
    "\n",
    "results_iq = model_iq.fit()\n",
    "predictions_iq = results_iq.predict(df_x_pred_iq).astype(int)\n"
   ]
  },
  {
   "cell_type": "code",
   "execution_count": 39,
   "metadata": {},
   "outputs": [],
   "source": [
    "#create the submit file\n",
    "create_submit_file(predictions_sj,predictions_iq)"
   ]
  },
  {
   "cell_type": "markdown",
   "metadata": {},
   "source": [
    "#### Recursive Neg Binomial Model\n",
    "Create a function to re-run the Neg Binomial Mode after each prediction"
   ]
  },
  {
   "cell_type": "code",
   "execution_count": 37,
   "metadata": {},
   "outputs": [],
   "source": [
    "y_pred_sj=[]\n",
    "\n",
    "#reset the index of the test and train files\n",
    "df_x_train_sj.reset_index(inplace=True,drop=True)\n",
    "df_x_pred_sj.reset_index(inplace=True,drop=True)\n",
    "\n",
    "#create a scaler for total_cases\n",
    "tc_scale=MinMaxScaler(feature_range=(0,1))\n",
    "np_tc=np.array(df_y_train_sj['total_cases'])\n",
    "np_tc=np.reshape(np_tc,(-1,1))\n",
    "\n",
    "tc_scale.fit(np_tc)\n",
    "tc_scale.transform(np_tc)\n",
    "\n",
    "#Use the unscaled version of the target value to fit the model\n",
    "df_x_train_sj['total_cases']=df_y_train_sj['total_cases']\n",
    "\n",
    "#for each record in the holdout file\n",
    "for i in range(df_x_pred_sj.shape[0]):\n",
    "    #create, fit and run the model - one record at a time\n",
    "    model_sj = smf.glm(formula=formula_sj,\n",
    "                        data=df_x_train_sj,\n",
    "                        family=sm.families.NegativeBinomial(alpha=0.0001))\n",
    "\n",
    "    results_sj = model_sj.fit()\n",
    "    predictions_sj = results_sj.predict(df_x_pred_sj.iloc[i,:]).astype(int)\n",
    "    y_pred_sj.append(predictions_sj)\n",
    "    \n",
    "    if i > 2:\n",
    "        ##get a scaled version of the total_count\n",
    "        predictions_sj_sc=np.array(predictions_sj)\n",
    "        predictions_sj_sc=np.reshape(predictions_sj_sc,(-1,1))\n",
    "        predictions_sj_sc=tc_scale.transform(predictions_sj_sc)\n",
    "    \n",
    "        #Update the row with the current predicted amount. Also update the lag 3 rows following to capture the amount rolling forward\n",
    "        df_x_pred_sj.loc[i,'total_cases']=int(predictions_sj) #retain unscaled value for iterative fits\n",
    "        df_x_pred_sj.loc[i+1,'total_cases_shift_1']=predictions_sj_sc #scaled values for supporting data\n",
    "        df_x_pred_sj.loc[i+2,'total_cases_shift_2']=predictions_sj_sc\n",
    "        df_x_pred_sj.loc[i+3,'total_cases_shift_3']=predictions_sj_sc\n",
    "        "
   ]
  },
  {
   "cell_type": "code",
   "execution_count": 42,
   "metadata": {},
   "outputs": [],
   "source": [
    "y_pred_iq=[]\n",
    "\n",
    "#reset the index of the test and train files\n",
    "df_x_train_iq.reset_index(inplace=True,drop=True)\n",
    "df_x_pred_iq.reset_index(inplace=True,drop=True)\n",
    "\n",
    "#create a scaler for total_cases\n",
    "tc_scale=MinMaxScaler(feature_range=(0,1))\n",
    "np_tc=np.array(df_y_train_iq['total_cases'])\n",
    "np_tc=np.reshape(np_tc,(-1,1))\n",
    "\n",
    "tc_scale.fit(np_tc)\n",
    "tc_scale.transform(np_tc)\n",
    "\n",
    "#Use the unscaled version of the target value to fit the model\n",
    "df_x_train_iq['total_cases']=df_y_train_iq['total_cases']\n",
    "\n",
    "#for each record in the holdout file\n",
    "for i in range(df_x_pred_iq.shape[0]):\n",
    "    #create, fit and run the model - one record at a time\n",
    "    model_iq = smf.glm(formula=formula_iq,\n",
    "                        data=df_x_train_iq,\n",
    "                        family=sm.families.NegativeBinomial(alpha=1e-08))\n",
    "\n",
    "    results_iq = model_iq.fit()\n",
    "    predictions_iq = results_iq.predict(df_x_pred_iq.iloc[i,:]).astype(int)\n",
    "    y_pred_iq.append(predictions_iq)\n",
    "    \n",
    "    if i > 2:\n",
    "        ##get a scaled version of the total_count\n",
    "        predictions_iq_sc=np.array(predictions_iq)\n",
    "        predictions_iq_sc=np.reshape(predictions_iq_sc,(-1,1))\n",
    "        predictions_iq_sc=tc_scale.transform(predictions_iq_sc)\n",
    "    \n",
    "        #Update the row with the current predicted amount. Also update the lag 3 rows following to capture the amount rolling forward\n",
    "        df_x_pred_iq.loc[i,'total_cases']=int(predictions_iq)\n",
    "        df_x_pred_iq.loc[i+1,'total_cases_shift_1']=predictions_iq_sc\n",
    "        df_x_pred_iq.loc[i+2,'total_cases_shift_2']=predictions_iq_sc\n",
    "        df_x_pred_iq.loc[i+3,'total_cases_shift_3']=predictions_iq_sc\n",
    "        "
   ]
  },
  {
   "cell_type": "code",
   "execution_count": 43,
   "metadata": {},
   "outputs": [],
   "source": [
    "#create the submit file\n",
    "create_submit_file(y_pred_sj,y_pred_iq)"
   ]
  },
  {
   "cell_type": "markdown",
   "metadata": {},
   "source": [
    "#### Results\n",
    "The negative binomial model served as the baseline for the competition. In the baseline test, it achieved a combined MAE score od ~25.5. Using some feature engineering to create features that created moving averages and sums over a variety of weeks and then lagging those values, the negative binomial model achieved an MAE of 22.29. Additionally, the model was run recursively such that after each prediction, the model was updated and run again. This resulted in a reduced score at 24.62.\n",
    "\n",
    "Finally, an attempt was made to run a classifier which classified each week's data as a 'baseline','outbreak', or 'severe outbreak' week. The classifier was applied to the holdout set and the model run again. With a case severity feature, the model fits extremely well. However, when the the classifier was applied to the hodout set to generate the feature class, and the model run again, results did not improve. It was suspected that this was the case due to an extreme class imbalance. As such SMOTE was applied to the classification to balance the classes. Again, results did not improve."
   ]
  },
  {
   "cell_type": "code",
   "execution_count": null,
   "metadata": {},
   "outputs": [],
   "source": []
  }
 ],
 "metadata": {
  "kernelspec": {
   "display_name": "Python 3",
   "language": "python",
   "name": "python3"
  },
  "language_info": {
   "codemirror_mode": {
    "name": "ipython",
    "version": 3
   },
   "file_extension": ".py",
   "mimetype": "text/x-python",
   "name": "python",
   "nbconvert_exporter": "python",
   "pygments_lexer": "ipython3",
   "version": "3.8.5"
  }
 },
 "nbformat": 4,
 "nbformat_minor": 4
}
