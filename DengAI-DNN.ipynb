{
 "cells": [
  {
   "cell_type": "markdown",
   "metadata": {},
   "source": [
    "## DengAI DNN Notebook\n",
    "This notebook is for exploring the use of DNN networks with the DengAI competition\n",
    "\n",
    "### Environment and Data Prep"
   ]
  },
  {
   "cell_type": "code",
   "execution_count": 64,
   "metadata": {},
   "outputs": [
    {
     "name": "stdout",
     "output_type": "stream",
     "text": [
      "Environment is: keras\n"
     ]
    }
   ],
   "source": [
    "#Run the utils notebook\n",
    "%run DengAI-Utils.ipynb\n",
    "\n",
    "tf.random.set_seed(42)"
   ]
  },
  {
   "cell_type": "code",
   "execution_count": 65,
   "metadata": {},
   "outputs": [],
   "source": [
    "#pre-process the data\n",
    "df_x_train_sj, df_y_train_sj, df_x_test_sj, df_y_test_sj, df_x_valid_sj, df_y_valid_sj, df_x_pred_sj, df_y_pred_sj=pre_process_data(\n",
    "    city='sj',\n",
    "    train_split=1.0,\n",
    "    test_split=0.0,\n",
    "    valid_split=0.0,\n",
    "    xy_split=0.0,\n",
    "    time_series_split=True\n",
    ")\n",
    "#set target field\n",
    "target='total_cases'"
   ]
  },
  {
   "cell_type": "code",
   "execution_count": 38,
   "metadata": {},
   "outputs": [],
   "source": [
    "#alternative approach using SMOTE records to try to balance the dataset\n",
    "#pre-process using SMOTE records\n",
    "df_x_train_sj, df_y_train_sj, df_x_test_sj, df_y_test_sj,df_x_pred_sj=pre_process_data_smote(\n",
    "    city='sj',\n",
    "    train_split=0.8,\n",
    "    test_split=0.2\n",
    ")"
   ]
  },
  {
   "cell_type": "code",
   "execution_count": 41,
   "metadata": {
    "collapsed": true,
    "jupyter": {
     "outputs_hidden": true,
     "source_hidden": true
    }
   },
   "outputs": [
    {
     "name": "stdout",
     "output_type": "stream",
     "text": [
      "(2836, 142)\n",
      "(2836,)\n",
      "(709, 142)\n",
      "(709,)\n",
      "(310, 142)\n"
     ]
    }
   ],
   "source": [
    "print(df_x_train_sj.shape)\n",
    "print(df_y_train_sj.shape)\n",
    "print(df_x_test_sj.shape)\n",
    "print(df_y_test_sj.shape)\n",
    "#print(df_x_valid_sj.shape)\n",
    "#print(df_y_valid_sj.shape)\n",
    "print(df_x_pred_sj.shape)\n",
    "#print(df_y_pred_sj.shape)\n",
    "#df_x_pred_sj.to_csv('xtemp.csv')\n",
    "#df_y_valid_sj.to_csv('ytemp.csv')\n",
    "#df_x_train_sj.to_csv('temp.csv')"
   ]
  },
  {
   "cell_type": "code",
   "execution_count": 52,
   "metadata": {},
   "outputs": [],
   "source": [
    "#Pre-process data for iq\n",
    "df_x_train_iq, df_y_train_iq, df_x_test_iq, df_y_test_iq, df_x_valid_iq, df_y_valid_iq, df_x_pred_iq, df_y_pred_iq=pre_process_data(\n",
    "    city='iq',\n",
    "    train_split=1.0,\n",
    "    test_split=0.0,\n",
    "    valid_split=0.0,\n",
    "    xy_split=0.0,\n",
    "    time_series_split=True\n",
    ")\n",
    "\n",
    "#set target field\n",
    "target='total_cases'"
   ]
  },
  {
   "cell_type": "code",
   "execution_count": null,
   "metadata": {
    "jupyter": {
     "source_hidden": true
    }
   },
   "outputs": [],
   "source": [
    "print(df_x_train_iq.shape)\n",
    "print(df_y_train_iq.shape)\n",
    "print(df_x_test_iq.shape)\n",
    "print(df_y_test_iq.shape)\n",
    "print(df_x_valid_iq.shape)\n",
    "print(df_y_valid_iq.shape)\n",
    "print(df_x_pred_iq.shape)\n",
    "print(df_y_pred_iq.shape)\n"
   ]
  },
  {
   "cell_type": "markdown",
   "metadata": {},
   "source": [
    "##### Randomly select with balanced outbreak severity\n",
    "Tried creating a random dataset with 50% base outbreak and roughly 25% each of the moderate and severe outbreaks. Results were similar to the unbalanced class results (MAE was 17)."
   ]
  },
  {
   "cell_type": "code",
   "execution_count": null,
   "metadata": {},
   "outputs": [],
   "source": [
    "'''Try randomly selecting evenly distributed classes of severity'''\n",
    "##down select to even samples of severity\n",
    "df_x_train_sj['total_cases']=df_y_train_sj['total_cases']\n",
    "df_x_test_sj['total_cases']=df_y_test_sj['total_cases']\n",
    "\n",
    "#create a set for each severity\n",
    "df_x_train_sj=df_x_train_sj.append(df_x_test_sj,ignore_index=True)\n",
    "df_base=df_x_train_sj[df_x_train_sj['outbreak_severity']==0]\n",
    "df_moderate=df_x_train_sj[df_x_train_sj['outbreak_severity']==1]\n",
    "df_severe=df_x_train_sj[df_x_train_sj['outbreak_severity']==2]\n",
    "\n",
    "#sample all of the more severe outbreaks and subset of baseline and rebuild dataset\n",
    "df_base=df_base.sample(frac=0.2,random_state=10)\n",
    "df_sample=df_base.append(df_moderate,ignore_index=True)\n",
    "df_sample=df_sample.append(df_severe,ignore_index=True)\n",
    "\n",
    "#Drop the severity column so it's not included in training\n",
    "df_sample.drop('outbreak_severity',axis=1,inplace=True)\n",
    "df_sample_labels=df_sample['total_cases']\n",
    "df_sample.drop('total_cases',axis=1,inplace=True)\n",
    "df_x_valid_sj.drop('outbreak_severity',axis=1,inplace=True)\n",
    "df_x_pred_sj.drop('outbreak_severity',axis=1,inplace=True)\n",
    "\n",
    "#reshuffle and split the data into train and test\n",
    "df_x_train_sj,df_x_test_sj,df_y_train_sj,df_y_test_sj=train_test_split(df_sample,df_sample_labels,test_size=0.2,random_state=44)\n",
    "df_y_train_sj=pd.DataFrame(df_y_train_sj)\n",
    "df_y_train_sj['total_cases']=df_y_train_sj\n",
    "df_y_test_sj=pd.DataFrame(df_y_test_sj)\n",
    "df_y_test_sj['total_cases']=df_y_test_sj\n",
    "\n",
    "#######################################\n",
    "'''Try randomly selecting evenly distributed classes of severity'''\n",
    "##down select to even samples of severity\n",
    "df_x_train_iq['total_cases']=df_y_train_iq['total_cases']\n",
    "df_x_test_iq['total_cases']=df_y_test_iq['total_cases']\n",
    "\n",
    "#create a set for each severity\n",
    "df_x_train_iq=df_x_train_iq.append(df_x_test_iq,ignore_index=True)\n",
    "df_base_iq=df_x_train_iq[df_x_train_iq['outbreak_severity']==0]\n",
    "df_moderate_iq=df_x_train_iq[df_x_train_iq['outbreak_severity']==1]\n",
    "df_severe_iq=df_x_train_iq[df_x_train_iq['outbreak_severity']==2]\n",
    "\n",
    "#sample all of the more severe outbreaks and subset of baseline and rebuild dataset\n",
    "df_base_iq=df_base_iq.sample(frac=0.5,random_state=10)\n",
    "df_sample_iq=df_base_iq.append(df_moderate_iq,ignore_index=True)\n",
    "df_sample_iq=df_sample_iq.append(df_severe_iq,ignore_index=True)\n",
    "\n",
    "#Drop the severity column so it's not included in training\n",
    "df_sample_iq.drop('outbreak_severity',axis=1,inplace=True)\n",
    "df_sample_labels_iq=df_sample_iq['total_cases']\n",
    "df_sample_iq.drop('total_cases',axis=1,inplace=True)\n",
    "df_x_valid_iq.drop('outbreak_severity',axis=1,inplace=True)\n",
    "df_x_pred_iq.drop('outbreak_severity',axis=1,inplace=True)\n",
    "\n",
    "#reshuffle and split the data into train and test\n",
    "df_x_train_iq,df_x_test_iq,df_y_train_iq,df_y_test_iq=train_test_split(df_sample_iq,df_sample_labels_iq,test_size=0.2,random_state=44)\n",
    "df_y_train_iq=pd.DataFrame(df_y_train_iq)\n",
    "df_y_train_iq['total_cases']=df_y_train_iq\n",
    "df_y_test_iq=pd.DataFrame(df_y_test_iq)\n",
    "df_y_test_iq['total_cases']=df_y_test_iq\n"
   ]
  },
  {
   "cell_type": "markdown",
   "metadata": {},
   "source": [
    "**DNN with GridSearch**"
   ]
  },
  {
   "cell_type": "code",
   "execution_count": null,
   "metadata": {},
   "outputs": [],
   "source": [
    "#Start timer\n",
    "from datetime import datetime\n",
    "s_time=datetime.now()\n",
    "\n",
    "from keras.optimizers import RMSprop\n",
    "\n",
    "#define a keras model builder\n",
    "def build_model(n_hidden=1,n_neurons=80,learning_rate=0.01,input_shape=0,activation='selu',dropout=0,optimizer='sgd',kernel_initializer=None):\n",
    "    model=keras.models.Sequential()\n",
    "    model.add(keras.layers.InputLayer(input_shape=input_shape))\n",
    "    #for layer in range(n_hidden):\n",
    "    #    model.add(keras.layers.Dense(n_neurons,activation=activation,kernel_initializer=kernel_initializer))\n",
    "    model.add(keras.layers.Dense(n_neurons,activation=activation))\n",
    "    tf.keras.layers.Dropout(0.5)\n",
    "    model.add(keras.layers.Dense(n_neurons/4,activation=activation))\n",
    "    model.add(keras.layers.Dense(1))\n",
    "    optimizer=optimizer(lr=learning_rate)\n",
    "    model.compile(loss='mae',metrics=['mae'],optimizer=optimizer)\n",
    "    \n",
    "    return model\n",
    "\n",
    "#Wrap with sci-kit wrapper to enable fit, predict, score, etc\n",
    "input_sj=len(df_x_train_sj.columns)\n",
    "keras_reg_sj=keras.wrappers.scikit_learn.KerasRegressor(build_fn=build_model,input_shape=(input_sj))\n",
    "\n",
    "#Create callbacks\n",
    "reduce_lr=tf.keras.callbacks.ReduceLROnPlateau(monitor=\"mae\", factor=0.8, patience=10, min_lr=1e-10, verbose=1, mode=\"max\")\n",
    "early_stop=keras.callbacks.EarlyStopping(patience=20)\n",
    "\n",
    "#Build and fit Fit model\n",
    "n_neurons=80\n",
    "activation='selu'\n",
    "model_sj=keras.models.Sequential()\n",
    "model_sj.add(keras.layers.InputLayer(input_shape=input_sj))\n",
    "model_sj.add(keras.layers.Dense(n_neurons,activation=activation))\n",
    "model_sj.add(tf.keras.layers.Dropout(0.5))\n",
    "model_sj.add(keras.layers.Dense(n_neurons/4,activation=activation))\n",
    "model_sj.add(keras.layers.Dense(1))\n",
    "opt=tf.keras.optimizers.RMSprop(learning_rate=0.01, rho=0.9, momentum=0.0, epsilon=1e-07, centered=False, name='RMSprop')\n",
    "optimizer=opt\n",
    "model_sj.compile(loss='mae',metrics=['mae'],optimizer=opt)\n",
    "\n",
    "model_sj.fit(df_x_train_sj, df_y_train_sj[target],batch_size=16,epochs=500,verbose=1,shuffle=True,\n",
    "           validation_data=(df_x_test_sj,df_y_test_sj[target]),\n",
    "           callbacks=[reduce_lr])\n",
    "\n",
    "'''\n",
    "#get needed libraries for grid search and eval\n",
    "from scipy.stats import reciprocal\n",
    "from sklearn.model_selection import GridSearchCV\n",
    "\n",
    "params={\n",
    "    'n_hidden': [2],\n",
    "    'kernel_initializer':[None],\n",
    "    'n_neurons': [80],\n",
    "    'learning_rate': [0.01],\n",
    "    'activation':['selu'],\n",
    "    'dropout': [0],\n",
    "    'optimizer':[RMSprop]\n",
    "}\n",
    "\n",
    "#Create callbacks\n",
    "reduce_lr=tf.keras.callbacks.ReduceLROnPlateau(monitor=\"mae\", factor=0.8, patience=10, min_lr=1e-10, verbose=0, mode=\"max\")\n",
    "early_stop=keras.callbacks.EarlyStopping(patience=20)\n",
    "\n",
    "#Grid search for SJ\n",
    "grid_sj=GridSearchCV(keras_reg_sj,params,cv=3,return_train_score=True)\n",
    "grid_sj.fit(df_x_train_sj, df_y_train_sj[target],epochs=50,verbose=0,shuffle=True,\n",
    "           validation_data=(df_x_test_sj,df_y_test_sj[target]),\n",
    "           callbacks=[reduce_lr])\n",
    "\n",
    "#grid seach for IQ\n",
    "#grid_iq=GridSearchCV(keras_reg_iq,params,cv=3,return_train_score=True)\n",
    "#grid_iq.fit(df_x_train_iq, df_y_train_iq[target],epochs=200,verbose=0,\n",
    "#           validation_data=(df_x_test_iq,df_y_test_iq[target]),\n",
    "#           callbacks=[keras.callbacks.EarlyStopping(patience=10)])\n",
    "\n",
    "\n",
    "#Evaluate results\n",
    "#Test MAE\n",
    "y_pred_sj=grid_sj.predict(df_x_test_sj)\n",
    "y_pred_iq=grid_iq.predict(df_x_test_iq)\n",
    "y_pred_combined=np.append(y_pred_sj,y_pred_iq)\n",
    "y_pred_combined=np.where(y_pred_combined>0,y_pred_combined,0) #remove negative predictions\n",
    "y_target_combined=np.append(df_y_test_sj[target],df_y_test_iq[target])\n",
    "print('MAE of SJ: '+ str(mean_absolute_error(df_y_test_sj[target],y_pred_sj)))\n",
    "print('MAE of IQ: '+ str(mean_absolute_error(df_y_test_iq[target],y_pred_iq)))\n",
    "print('MAE of Combined: ' + str(mean_absolute_error(y_target_combined,y_pred_combined)))\n",
    "print('-'*25)\n",
    "#best model\n",
    "print('grid_sj params:' + str(grid_sj.best_params_))\n",
    "print('grid_sj best score: '+str(grid_sj.best_score_))\n",
    "print('grid_iq params:' + str(grid_iq.best_params_))\n",
    "print('grid_iq best score: '+str(grid_iq.best_score_))\n",
    "model_sj=grid_sj.best_estimator_.model\n",
    "model_iq=grid_iq.best_estimator_.model\n",
    "'''\n",
    "print('-'*25)\n",
    "#end timer\n",
    "e_time=datetime.now()\n",
    "exec_time=e_time-s_time\n",
    "print('Execution time:' + str(exec_time))"
   ]
  },
  {
   "cell_type": "code",
   "execution_count": null,
   "metadata": {},
   "outputs": [],
   "source": [
    "#Test MAE\n",
    "y_pred_sj=grid_sj.predict(df_x_test_sj)\n",
    "print('MAE of SJ: '+ str(mean_absolute_error(df_y_test_sj[target],y_pred_sj)))\n",
    "print('-'*25)\n",
    "#best model\n",
    "print('grid_sj params:' + str(grid_sj.best_params_))\n",
    "print('grid_sj best score: '+str(grid_sj.best_score_))\n",
    "\n",
    "model_sj=grid_sj.best_estimator_.model"
   ]
  },
  {
   "cell_type": "code",
   "execution_count": null,
   "metadata": {},
   "outputs": [],
   "source": [
    "\n",
    "y_hat_sj=model_sj.predict(df_x_valid_sj)\n",
    "y_hat_sj=y_hat_sj[:,-1]\n",
    "for i in range(len(y_hat_sj)): y_hat_sj[i]=abs(int(y_hat_sj[i]))\n",
    "print(y_hat_sj)\n",
    "\n",
    "#Print the MAE for predictions and targets from generated holdout\n",
    "print('MAE for y_hat and y_valid:' + str(mean_absolute_error(y_hat_sj,df_y_valid_sj['total_cases'])))\n",
    "\n",
    "#Print the predicted amounts against the targets\n",
    "df_pred=pd.DataFrame(data=y_hat_sj)\n",
    "df_pred['week']=range(1,len(y_hat_sj)+1)\n",
    "df_pred['y_hat']=df_pred[0]\n",
    "df_targets=df_y_valid_sj['total_cases'].copy()\n",
    "df_targets=df_targets.reset_index(drop=True)\n",
    "df_pred['targets']=df_targets\n",
    "df_pred=df_pred.iloc[:,1:]\n",
    "\n",
    "sns.lineplot(data=df_pred,x='week',y='y_hat',legend='brief',label='y_hat')\n",
    "sns.lineplot(data=df_pred,x='week',y='targets',legend='brief',label='target')"
   ]
  },
  {
   "cell_type": "code",
   "execution_count": null,
   "metadata": {},
   "outputs": [],
   "source": [
    "'''Create the submission file'''\n",
    "#Use the trained model to make predictions on the holdout set\n",
    "y_pred_sj=grid_sj.predict(df_x_pred_sj)\n",
    "y_pred_iq=grid_iq.predict(df_x_pred_iq)\n",
    "\n",
    "#Create the holdout file\n",
    "create_submit_file(y_pred_sj,y_pred_iq)"
   ]
  },
  {
   "cell_type": "markdown",
   "metadata": {},
   "source": [
    "#### DNN Model\n",
    "##### SJ Model"
   ]
  },
  {
   "cell_type": "code",
   "execution_count": 66,
   "metadata": {},
   "outputs": [],
   "source": [
    "#Define model\n",
    "def build_model(optimizer=None,n_units=80,input_shape=df_x_train_sj.shape[1]):\n",
    "  model = tf.keras.Sequential([\n",
    "    tf.keras.layers.Input(shape=input_shape),\n",
    "    tf.keras.layers.Dense(n_units, activation='selu'),\n",
    "    tf.keras.layers.Dropout(0.25),\n",
    "    tf.keras.layers.Dense(n_units, activation='selu'),\n",
    "    tf.keras.layers.Dense(1)\n",
    "  ])\n",
    "\n",
    "  if not optimizer:\n",
    "    optimizer = tf.keras.optimizers.Adam(learning_rate=0.001, beta_1=0.9, beta_2=0.9999, amsgrad=False)\n",
    "\n",
    "  model.compile(loss='mae',\n",
    "                optimizer=optimizer,\n",
    "                metrics=['mae', 'mse'])\n",
    "  return model"
   ]
  },
  {
   "cell_type": "code",
   "execution_count": null,
   "metadata": {},
   "outputs": [],
   "source": [
    "\n",
    "# Train the Model.\n",
    "batch_size = 16\n",
    "buffer_size = 500\n",
    "eval_interval = 200\n",
    "epochs = 50\n",
    "\n",
    "#Add a learning rate callback\n",
    "reduce_lr = tf.keras.callbacks.ReduceLROnPlateau(monitor=\"mae\", factor=0.8, patience=10, min_lr=1e-10, verbose=1, mode=\"max\")\n",
    "\n",
    "#Train the model with shuffled batches\n",
    "train_sj_data_single = tf.data.Dataset.from_tensor_slices((df_x_train_sj, df_y_train_sj[target]))\n",
    "#train_sj_data_single = tf.data.Dataset.from_tensor_slices((df_x_train_sj, df_y_train_sj))\n",
    "train_sj_data_single = train_sj_data_single.cache().shuffle(BUFFER_SIZE).batch(BATCH_SIZE).repeat()\n",
    "\n",
    "#define optimizer\n",
    "opt = tf.keras.optimizers.RMSprop(learning_rate=0.01, rho=0.9, momentum=0.0, epsilon=1e-07, centered=False,name='RMSprop')\n",
    "\n",
    "#Build and fit the model\n",
    "sj_model = build_model(optimizer=opt, n_units=80)\n",
    "history = sj_model.fit(\n",
    "    train_sj_data_single,\n",
    "    epochs=epochs, \n",
    "    steps_per_epoch=eval_interval,\n",
    "    verbose=1,\n",
    "    callbacks=[reduce_lr])\n"
   ]
  },
  {
   "cell_type": "code",
   "execution_count": null,
   "metadata": {},
   "outputs": [],
   "source": [
    "np_mae_scores=np.array(mae_scores)\n",
    "sns.lineplot(data=mae_scores)\n",
    "\n",
    "print('Average MAE Score: ' + str(np.mean(np_mae_scores)))\n",
    "print('Max MAE score: ' + str(np.max(np_mae_scores)) + ' Percent of mean: ' + str(np.max(np_mae_scores)/np.mean(np_mae_scores)))\n",
    "print('Min MAE score: ' + str(np.min(np_mae_scores)) + ' Percent of mean: ' + str(np.min(np_mae_scores)/np.mean(np_mae_scores)))"
   ]
  },
  {
   "cell_type": "code",
   "execution_count": 807,
   "metadata": {},
   "outputs": [
    {
     "name": "stdout",
     "output_type": "stream",
     "text": [
      "[202 230 239 226 184 149 121 104  83  78  91  63  49  48  47  33  39  50\n",
      "  38  28  28  30  31  16  21  25  28  30  41  49  72  86]\n",
      "MAE for y_hat and y_valid:58.15625\n"
     ]
    },
    {
     "data": {
      "text/plain": [
       "<AxesSubplot:xlabel='week', ylabel='y_hat'>"
      ]
     },
     "execution_count": 807,
     "metadata": {},
     "output_type": "execute_result"
    },
    {
     "data": {
      "image/png": "[encoded data removed]",
      "text/plain": [
       "<Figure size 432x288 with 1 Axes>"
      ]
     },
     "metadata": {},
     "output_type": "display_data"
    }
   ],
   "source": [
    "#Run the predictions on the validation set\n",
    "y_hat_sj=sj_model.predict(df_x_valid_sj)\n",
    "y_hat_sj=y_hat_sj[:,-1]\n",
    "y_hat_sj=y_hat_sj.astype(int)\n",
    "y_hat_sj=np.where(y_hat_sj>0,y_hat_sj,0)\n",
    "\n",
    "print(y_hat_sj)\n",
    "\n",
    "#Print the MAE for predictions and targets from generated holdout\n",
    "print('MAE for y_hat and y_valid:' + str(mean_absolute_error(y_hat_sj,df_y_valid_sj[target])))\n",
    "\n",
    "#Print the predicted amounts against the targets\n",
    "df_pred=pd.DataFrame(data=y_hat_sj)\n",
    "df_pred['week']=range(1,len(y_hat_sj)+1)\n",
    "df_pred['y_hat']=df_pred[0]\n",
    "df_targets=df_y_valid_sj['total_cases'].copy()\n",
    "df_targets=df_targets.reset_index(drop=True)\n",
    "df_pred['targets']=df_targets\n",
    "df_pred=df_pred.iloc[:,1:]\n",
    "\n",
    "sns.lineplot(data=df_pred,x='week',y='y_hat',legend='brief',label='y_hat')\n",
    "sns.lineplot(data=df_pred,x='week',y='targets',legend='brief',label='target')"
   ]
  },
  {
   "cell_type": "code",
   "execution_count": 68,
   "metadata": {},
   "outputs": [
    {
     "name": "stdout",
     "output_type": "stream",
     "text": [
      "260\n"
     ]
    }
   ],
   "source": [
    "#Create submission set for sj\n",
    "sj_test_set = tf.data.Dataset.from_tensor_slices((df_x_pred_sj,df_y_pred_sj)).batch(len(df_y_pred_sj))\n",
    "sj_pred = []\n",
    "for x, y in sj_test_set.take(1):\n",
    "    predictions = sj_model.predict(x)\n",
    "    sj_pred = predictions.flatten()\n",
    "sj_pred=sj_pred.astype(int)\n",
    "sj_pred=np.where(sj_pred>0,sj_pred,0)\n",
    "print(len(sj_pred))"
   ]
  },
  {
   "cell_type": "markdown",
   "metadata": {},
   "source": [
    "##### IQ Model"
   ]
  },
  {
   "cell_type": "code",
   "execution_count": null,
   "metadata": {},
   "outputs": [],
   "source": [
    "# Train the Model.\n",
    "batch_size = 16\n",
    "buffer_size = 1000\n",
    "eval_interval = 200\n",
    "epochs = 4\n",
    "\n",
    "#Add learning rate callback\n",
    "reduce_lr = tf.keras.callbacks.ReduceLROnPlateau(monitor=\"mae\", factor=0.8, patience=10, min_lr=1e-6, verbose=1, mode=\"max\")\n",
    "\n",
    "#Set up repeated copies of shuffled data\n",
    "train_iq_data_single = tf.data.Dataset.from_tensor_slices((df_x_train_iq, df_y_train_iq[target]))\n",
    "train_iq_data_single = train_iq_data_single.cache().shuffle(BUFFER_SIZE).batch(BATCH_SIZE).repeat()\n",
    "\n",
    "#Set up an optimizer for the model\n",
    "opt = tf.keras.optimizers.RMSprop(\n",
    "    learning_rate=0.001, rho=0.9, momentum=0.0, epsilon=1e-07, centered=False,\n",
    "    name='RMSprop'\n",
    ")\n",
    "\n",
    "#Create and fit the model\n",
    "iq_model = build_model(optimizer=opt,n_units=100,input_shape=df_x_train_iq.shape[1])\n",
    "history = iq_model.fit(\n",
    "    train_iq_data_single,\n",
    "    epochs=epochs, \n",
    "    steps_per_epoch=eval_interval,\n",
    "    verbose=1,\n",
    "    callbacks=[reduce_lr])"
   ]
  },
  {
   "cell_type": "code",
   "execution_count": 756,
   "metadata": {},
   "outputs": [
    {
     "name": "stdout",
     "output_type": "stream",
     "text": [
      "19\n"
     ]
    }
   ],
   "source": [
    "#Verify training run with validation set\n",
    "iq_test_set = tf.data.Dataset.from_tensor_slices((df_x_valid_iq,df_y_valid_iq['total_cases'])).batch(len(df_y_valid_iq['total_cases']))\n",
    "iq_pred = []\n",
    "for x, y in iq_test_set.take(1):\n",
    "    predictions = iq_model.predict(x)\n",
    "    iq_pred = predictions.flatten()\n",
    "iq_pred=iq_pred.astype(int)\n",
    "iq_pred=np.where(iq_pred>0,iq_pred,0)\n",
    "print(len(predictions.flatten()))"
   ]
  },
  {
   "cell_type": "code",
   "execution_count": 757,
   "metadata": {},
   "outputs": [
    {
     "name": "stdout",
     "output_type": "stream",
     "text": [
      "MAE for y_hat and y_valid:3.473684210526316\n"
     ]
    },
    {
     "data": {
      "text/plain": [
       "<AxesSubplot:xlabel='week', ylabel='y_hat'>"
      ]
     },
     "execution_count": 757,
     "metadata": {},
     "output_type": "execute_result"
    },
    {
     "data": {
      "image/png": "[encoded data removed]",
      "text/plain": [
       "<Figure size 432x288 with 1 Axes>"
      ]
     },
     "metadata": {},
     "output_type": "display_data"
    }
   ],
   "source": [
    "#Print the MAE for predictions and targets from generated holdout\n",
    "print('MAE for y_hat and y_valid:' + str(mean_absolute_error(iq_pred,df_y_valid_iq['total_cases'])))\n",
    "\n",
    "#Print the predicted amounts against the targets\n",
    "df_pred=pd.DataFrame(data=iq_pred)\n",
    "df_pred['week']=range(1,len(iq_pred)+1)\n",
    "df_pred['y_hat']=df_pred[0]\n",
    "df_targets=df_y_valid_iq['total_cases'].copy()\n",
    "df_targets=df_targets.reset_index(drop=True)\n",
    "df_pred['targets']=df_targets\n",
    "df_pred=df_pred.iloc[:,1:]\n",
    "\n",
    "sns.lineplot(data=df_pred,x='week',y='y_hat',legend='brief',label='y_hat')\n",
    "sns.lineplot(data=df_pred,x='week',y='targets',legend='brief',label='target')"
   ]
  },
  {
   "cell_type": "code",
   "execution_count": 92,
   "metadata": {},
   "outputs": [
    {
     "name": "stdout",
     "output_type": "stream",
     "text": [
      "156\n"
     ]
    }
   ],
   "source": [
    "#Create the submission data for IQ\n",
    "iq_test_set = tf.data.Dataset.from_tensor_slices((df_x_pred_iq,df_y_pred_iq)).batch(len(df_y_pred_iq))\n",
    "iq_pred = []\n",
    "for x, y in iq_test_set.take(1):\n",
    "    predictions = iq_model.predict(x)\n",
    "    iq_pred = predictions.flatten()\n",
    "iq_pred=iq_pred.astype(int)\n",
    "iq_pred=np.where(iq_pred>0,iq_pred,0)\n",
    "print(len(predictions.flatten()))"
   ]
  },
  {
   "cell_type": "code",
   "execution_count": 93,
   "metadata": {},
   "outputs": [],
   "source": [
    "#Create the submission file\n",
    "create_submit_file(sj_pred,iq_pred)"
   ]
  }
 ],
 "metadata": {
  "kernelspec": {
   "display_name": "Python 3",
   "language": "python",
   "name": "python3"
  },
  "language_info": {
   "codemirror_mode": {
    "name": "ipython",
    "version": 3
   },
   "file_extension": ".py",
   "mimetype": "text/x-python",
   "name": "python",
   "nbconvert_exporter": "python",
   "pygments_lexer": "ipython3",
   "version": "3.8.5"
  }
 },
 "nbformat": 4,
 "nbformat_minor": 4
}
