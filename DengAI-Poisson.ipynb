{
 "cells": [
  {
   "cell_type": "markdown",
   "metadata": {},
   "source": [
    "### Deng AI Poisson Regression Notebook\n",
    "Notebook to test Poisson regression for the Deng AI Competition\n",
    "\n",
    "#### Prep Environment and Data"
   ]
  },
  {
   "cell_type": "code",
   "execution_count": 1,
   "metadata": {},
   "outputs": [
    {
     "name": "stdout",
     "output_type": "stream",
     "text": [
      "Environment is: keras\n"
     ]
    }
   ],
   "source": [
    "#Run the utils notebook\n",
    "%run DengAI-Utils.ipynb"
   ]
  },
  {
   "cell_type": "code",
   "execution_count": 2,
   "metadata": {},
   "outputs": [],
   "source": [
    "#pre-process the data\n",
    "df_x_train_sj, df_y_train_sj, df_x_test_sj, df_y_test_sj, df_x_valid_sj, df_y_valid_sj, df_x_pred_sj, df_y_pred_sj=pre_process_data(\n",
    "    city='sj',\n",
    "    train_split=0.8,\n",
    "    test_split=0.2,\n",
    "    valid_split=0.0,\n",
    "    xy_split=0.0,\n",
    "    time_series_split=True)\n",
    "df_x_train_iq, df_y_train_iq, df_x_test_iq, df_y_test_iq, df_x_valid_iq, df_y_valid_iq, df_x_pred_iq, df_y_pred_iq=pre_process_data(\n",
    "    city='iq',\n",
    "    train_split=0.8,\n",
    "    test_split=0.2,\n",
    "    valid_split=0.0,\n",
    "    xy_split=0.0,\n",
    "    time_series_split=True)\n",
    "\n",
    "#set target field\n",
    "target='total_cases'"
   ]
  },
  {
   "cell_type": "markdown",
   "metadata": {},
   "source": [
    "#### Linear Model for Comparison"
   ]
  },
  {
   "cell_type": "code",
   "execution_count": 4,
   "metadata": {},
   "outputs": [
    {
     "name": "stdout",
     "output_type": "stream",
     "text": [
      "Training set score sj: 0.71\n",
      "Test set score sj: -7.14\n",
      "Training set score iq: 1.00\n",
      "Test set score iq: -11.17\n",
      "total_cases\n",
      "MAE of SJ: 74.40815575842913\n",
      "MAE of IQ: 31.143989009513533\n",
      "MAE of Combined: 35.017590860263134\n"
     ]
    }
   ],
   "source": [
    "from sklearn.linear_model import LinearRegression\n",
    "\n",
    "#create and fit the model. Use the scaled training and test feature data against the unscaled target\n",
    "lr_sj=LinearRegression().fit(df_x_train_sj,df_y_train_sj[target])\n",
    "\n",
    "#Look at scores\n",
    "print('Training set score sj: {:.2f}'.format(lr_sj.score(df_x_train_sj,df_y_train_sj[target])))\n",
    "print('Test set score sj: {:.2f}'.format(lr_sj.score(df_x_test_sj,df_y_test_sj[target])))\n",
    "\n",
    "#create and fit the model. Use the scaled training and test feature data against the unscaled target\n",
    "lr_iq=LinearRegression().fit(df_x_train_iq,df_y_train_iq[target])\n",
    "\n",
    "#Look at scores\n",
    "print('Training set score iq: {:.2f}'.format(lr_iq.score(df_x_train_iq,df_y_train_iq[target])))\n",
    "print('Test set score iq: {:.2f}'.format(lr_iq.score(df_x_test_iq,df_y_test_iq[target])))\n",
    "print(target)\n",
    "evaluate_results(lr_sj,lr_iq,df_x_test_sj,df_x_test_iq,df_y_test_sj,df_y_test_iq,target)\n"
   ]
  },
  {
   "cell_type": "markdown",
   "metadata": {},
   "source": [
    "#### Poisson Model"
   ]
  },
  {
   "cell_type": "code",
   "execution_count": 3,
   "metadata": {},
   "outputs": [
    {
     "name": "stdout",
     "output_type": "stream",
     "text": [
      "Training set score sj: 0.85\n",
      "Test set score sj: -0.17\n",
      "Training set score sj: 0.93\n",
      "Test set score sj: -2.03\n",
      "MAE of SJ: 19.597102355337448\n",
      "MAE of IQ: 7.492804995513625\n",
      "MAE of Combined: 15.45494736528367\n"
     ]
    }
   ],
   "source": [
    "from sklearn.linear_model import PoissonRegressor\n",
    "\n",
    "sj_samples=df_x_train_sj.shape[0]\n",
    "iq_samples=df_x_train_iq.shape[0]\n",
    "\n",
    "alpha_sj=1e-6/sj_samples\n",
    "alpha_iq=1e-6/iq_samples\n",
    "\n",
    "pr_sj=PoissonRegressor(alpha=alpha_sj,max_iter=300)\n",
    "pr_sj.fit(df_x_train_sj,df_y_train_sj[target])\n",
    "\n",
    "#Look at scores\n",
    "print('Training set score sj: {:.2f}'.format(pr_sj.score(df_x_train_sj,df_y_train_sj[target])))\n",
    "print('Test set score sj: {:.2f}'.format(pr_sj.score(df_x_test_sj,df_y_test_sj[target])))\n",
    "\n",
    "pr_iq=PoissonRegressor(alpha=alpha_iq,max_iter=300)\n",
    "pr_iq.fit(df_x_train_iq,df_y_train_iq[target])\n",
    "\n",
    "#Look at scores\n",
    "print('Training set score sj: {:.2f}'.format(pr_iq.score(df_x_train_iq,df_y_train_iq[target])))\n",
    "print('Test set score sj: {:.2f}'.format(pr_iq.score(df_x_test_iq,df_y_test_iq[target])))\n",
    "\n",
    "#Evaluate results\n",
    "evaluate_results(pr_sj,pr_iq,df_x_test_sj,df_x_test_iq,df_y_test_sj,df_y_test_iq,target)\n"
   ]
  },
  {
   "cell_type": "code",
   "execution_count": 27,
   "metadata": {},
   "outputs": [],
   "source": [
    "'''Create the submission file'''\n",
    "#Use the trained model to make predictions on the holdout set\n",
    "y_pred_sj=pr_sj.predict(df_x_pred_sj)\n",
    "y_pred_iq=pr_iq.predict(df_x_pred_iq)\n",
    "\n",
    "#Create the holdout file\n",
    "create_submit_file(y_pred_sj,y_pred_iq)"
   ]
  },
  {
   "cell_type": "markdown",
   "metadata": {},
   "source": [
    "#### Grid Search for Poisson Model"
   ]
  },
  {
   "cell_type": "code",
   "execution_count": 4,
   "metadata": {},
   "outputs": [
    {
     "name": "stdout",
     "output_type": "stream",
     "text": [
      "Score of SJ train: 0.7199614903102085\n",
      "Score of SJ test: 0.14438594572062768\n",
      "Score of IQ train: 0.647266386054991\n",
      "Score of IQ test: 0.589192119535564\n",
      "-------------------------\n",
      "MAE of SJ: 16.310249927492933\n",
      "MAE of IQ: 4.838453801830189\n",
      "MAE of Combined: 12.384540226695796\n",
      "-------------------------\n",
      "Execution time:0:01:44.670367\n"
     ]
    }
   ],
   "source": [
    "#Start timer\n",
    "from datetime import datetime\n",
    "s_time=datetime.now()\n",
    "\n",
    "sj_samples=df_x_train_sj.shape[0]\n",
    "iq_samples=df_x_train_iq.shape[0]\n",
    "\n",
    "alpha_sj=1e-6/sj_samples\n",
    "alpha_iq=1e-6/iq_samples\n",
    "\n",
    "#Define param grid\n",
    "p_grid={\n",
    "    'alpha':[alpha_sj,alpha_iq,0.0001,0.001,0.01,0.1,1,10],\n",
    "    'max_iter':[100,200,300,500],\n",
    "    'fit_intercept':[True,False],\n",
    "    'tol':[0,1,5,10],\n",
    "    'warm_start':[True,False],\n",
    "}\n",
    "\n",
    "from sklearn.linear_model import PoissonRegressor\n",
    "\n",
    "#run param grid for sj\n",
    "grid_sj=GridSearchCV(PoissonRegressor(),p_grid,cv=5,return_train_score=True)\n",
    "grid_sj.fit(df_x_train_sj,df_y_train_sj[target])\n",
    "\n",
    "#run param grid for sj\n",
    "grid_iq=GridSearchCV(PoissonRegressor(),p_grid,cv=5,return_train_score=True)\n",
    "grid_iq.fit(df_x_train_iq,df_y_train_iq[target])\n",
    "\n",
    "#Evaluate results\n",
    "print('Score of SJ train: ' + str(grid_sj.score(df_x_train_sj,df_y_train_sj[target])))\n",
    "print('Score of SJ test: ' + str(grid_sj.score(df_x_test_sj,df_y_test_sj[target])))\n",
    "print('Score of IQ train: ' + str(grid_iq.score(df_x_train_iq,df_y_train_iq[target])))\n",
    "print('Score of IQ test: ' + str(grid_iq.score(df_x_test_iq,df_y_test_iq[target])))\n",
    "print('-'*25)\n",
    "evaluate_results(grid_sj,grid_iq,df_x_test_sj,df_x_test_iq,df_y_test_sj,df_y_test_iq,target='total_cases')\n",
    "print('-'*25)\n",
    "#end timer\n",
    "e_time=datetime.now()\n",
    "exec_time=e_time-s_time\n",
    "print('Execution time:' + str(exec_time))\n"
   ]
  },
  {
   "cell_type": "code",
   "execution_count": 12,
   "metadata": {},
   "outputs": [
    {
     "name": "stdout",
     "output_type": "stream",
     "text": [
      "Best params for sj: {'alpha': 10, 'fit_intercept': True, 'max_iter': 100, 'tol': 1, 'warm_start': True}\n",
      "Best params for iq: {'alpha': 0.1, 'fit_intercept': True, 'max_iter': 100, 'tol': 1, 'warm_start': True}\n"
     ]
    }
   ],
   "source": [
    "print('Best params for sj: ' + str(grid_sj.best_params_))\n",
    "print('Best params for iq: ' + str(grid_iq.best_params_))"
   ]
  },
  {
   "cell_type": "code",
   "execution_count": 13,
   "metadata": {},
   "outputs": [],
   "source": [
    "#create the submission file from best model\n",
    "sj_pred=grid_sj.predict(df_x_pred_sj)\n",
    "iq_pred=grid_iq.predict(df_x_pred_iq)\n",
    "\n",
    "#create submit file\n",
    "create_submit_file(sj_pred,iq_pred)\n"
   ]
  },
  {
   "cell_type": "markdown",
   "metadata": {},
   "source": [
    "#### Results\n",
    "The poisson regression using grid search over the features selected for their strongest correlation with total_cases yielded a combined MAE of 37.60 - far worse than the baseline model. This is not surprising given the models assumptions."
   ]
  },
  {
   "cell_type": "code",
   "execution_count": null,
   "metadata": {},
   "outputs": [],
   "source": []
  }
 ],
 "metadata": {
  "kernelspec": {
   "display_name": "Python 3",
   "language": "python",
   "name": "python3"
  },
  "language_info": {
   "codemirror_mode": {
    "name": "ipython",
    "version": 3
   },
   "file_extension": ".py",
   "mimetype": "text/x-python",
   "name": "python",
   "nbconvert_exporter": "python",
   "pygments_lexer": "ipython3",
   "version": "3.8.5"
  }
 },
 "nbformat": 4,
 "nbformat_minor": 4
}
